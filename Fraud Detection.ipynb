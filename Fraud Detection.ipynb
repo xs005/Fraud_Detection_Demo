{
 "cells": [
  {
   "cell_type": "markdown",
   "id": "18ec93cf",
   "metadata": {},
   "source": [
    "## Initial Thoughts\n",
    "\n",
    "This is a dataset for the credit card fraud transaction detection. I got some initial thoughts after checking it.\n",
    "1. This is a **binary classification** problem to predict if a transaction is Fraud.\n",
    "2. **Imbalanced data, with only 1.58% fraud transactions.** I will undersample the non-fraud transaction and use F1-score as the metrics to avoid bias.\n",
    "3. <span style=\"color:red\">One business purpose should reduce loss to avoid fraud transactions</span>, the percentage of **the amount of predicted fraud transaction <span style=\"color:red\">(True Positive)</span>/the amount of fraud transaction** should be high.\n",
    "4. <span style=\"color:red\">The other business purpose should be less effect on the non-fraud real transactions</span>, the percentage of **the transactions of predicted fraud transactions <span style=\"color:red\">(False Positive)</span>/real transactions** should be low.\n",
    "\n",
    "Key words: **binary classification, imbalanced data, adversarial validation, logistic regression, neutral network, early stopping**"
   ]
  },
  {
   "cell_type": "code",
   "execution_count": 1,
   "id": "1e9c0888",
   "metadata": {
    "ExecuteTime": {
     "end_time": "2022-11-25T04:18:05.583482Z",
     "start_time": "2022-11-25T04:18:02.791394Z"
    }
   },
   "outputs": [],
   "source": [
    "import pandas as pd\n",
    "import json\n",
    "import joblib\n",
    "import tqdm\n",
    "import copy\n",
    "import numpy as np\n",
    "import matplotlib.pyplot as plt\n",
    "from sklearn import datasets\n",
    "from sklearn import linear_model\n",
    "from sklearn import metrics\n",
    "from sklearn import model_selection\n",
    "from sklearn import pipeline\n",
    "from sklearn import preprocessing\n",
    "from imblearn.under_sampling import RandomUnderSampler\n",
    "import warnings\n",
    "warnings.filterwarnings('ignore')\n",
    "\n",
    "pd.options.display.max_columns = None\n",
    "pd.options.display.max_rows = 100"
   ]
  },
  {
   "cell_type": "code",
   "execution_count": null,
   "id": "1947f496",
   "metadata": {
    "ExecuteTime": {
     "end_time": "2022-11-17T05:32:45.180072Z",
     "start_time": "2022-11-17T05:32:23.147606Z"
    }
   },
   "outputs": [],
   "source": [
    "# the format of the file is special, read all data to dataframe\n",
    "with open('transactions.txt') as f:\n",
    "    content = f.read().splitlines()\n",
    "\n",
    "df = pd.DataFrame.from_records([json.loads(i) for i in content])"
   ]
  },
  {
   "cell_type": "code",
   "execution_count": null,
   "id": "6dd058f2",
   "metadata": {
    "ExecuteTime": {
     "end_time": "2022-11-16T03:27:04.482039Z",
     "start_time": "2022-11-16T03:26:57.085574Z"
    }
   },
   "outputs": [],
   "source": [
    "# save the dataframe for faster reading\n",
    "joblib.dump(df, 'df.joblib')"
   ]
  },
  {
   "cell_type": "code",
   "execution_count": 2,
   "id": "935baa96",
   "metadata": {
    "ExecuteTime": {
     "end_time": "2022-11-25T04:18:10.687600Z",
     "start_time": "2022-11-25T04:18:08.124976Z"
    }
   },
   "outputs": [],
   "source": [
    "df = joblib.load('df.joblib')"
   ]
  },
  {
   "cell_type": "markdown",
   "id": "3a03a47a",
   "metadata": {},
   "source": [
    "### EDA"
   ]
  },
  {
   "cell_type": "code",
   "execution_count": 3,
   "id": "0c7c5039",
   "metadata": {
    "ExecuteTime": {
     "end_time": "2022-11-25T04:18:11.373804Z",
     "start_time": "2022-11-25T04:18:11.342592Z"
    }
   },
   "outputs": [
    {
     "data": {
      "text/plain": [
       "(786363, 29)"
      ]
     },
     "execution_count": 3,
     "metadata": {},
     "output_type": "execute_result"
    }
   ],
   "source": [
    "df.shape"
   ]
  },
  {
   "cell_type": "code",
   "execution_count": 4,
   "id": "1c3cd616",
   "metadata": {
    "ExecuteTime": {
     "end_time": "2022-11-25T04:18:12.702530Z",
     "start_time": "2022-11-25T04:18:12.671286Z"
    }
   },
   "outputs": [
    {
     "data": {
      "text/plain": [
       "False    773946\n",
       "True      12417\n",
       "Name: isFraud, dtype: int64"
      ]
     },
     "execution_count": 4,
     "metadata": {},
     "output_type": "execute_result"
    }
   ],
   "source": [
    "# quick check the data balance\n",
    "df.isFraud.value_counts()"
   ]
  },
  {
   "cell_type": "code",
   "execution_count": 5,
   "id": "7b82860a",
   "metadata": {
    "ExecuteTime": {
     "end_time": "2022-11-25T04:18:13.581793Z",
     "start_time": "2022-11-25T04:18:13.550579Z"
    }
   },
   "outputs": [
    {
     "data": {
      "text/plain": [
       "False    0.98421\n",
       "True     0.01579\n",
       "Name: isFraud, dtype: float64"
      ]
     },
     "execution_count": 5,
     "metadata": {},
     "output_type": "execute_result"
    }
   ],
   "source": [
    "# quick check the data balance\n",
    "df.isFraud.value_counts() / df.shape[0]"
   ]
  },
  {
   "cell_type": "markdown",
   "id": "56eac816",
   "metadata": {},
   "source": [
    "Very imbalanced data, we would use F1 as metrics to avoid biased results. And I will undersample the False cases."
   ]
  },
  {
   "cell_type": "code",
   "execution_count": 6,
   "id": "a252b645",
   "metadata": {
    "ExecuteTime": {
     "end_time": "2022-11-25T04:18:16.159435Z",
     "start_time": "2022-11-25T04:18:15.909406Z"
    }
   },
   "outputs": [
    {
     "name": "stdout",
     "output_type": "stream",
     "text": [
      "echoBuffer\n"
     ]
    },
    {
     "data": {
      "text/plain": [
       "    1.0\n",
       "Name: echoBuffer, dtype: float64"
      ]
     },
     "metadata": {},
     "output_type": "display_data"
    },
    {
     "name": "stdout",
     "output_type": "stream",
     "text": [
      "merchantCity\n"
     ]
    },
    {
     "data": {
      "text/plain": [
       "    1.0\n",
       "Name: merchantCity, dtype: float64"
      ]
     },
     "metadata": {},
     "output_type": "display_data"
    },
    {
     "name": "stdout",
     "output_type": "stream",
     "text": [
      "merchantState\n"
     ]
    },
    {
     "data": {
      "text/plain": [
       "    1.0\n",
       "Name: merchantState, dtype: float64"
      ]
     },
     "metadata": {},
     "output_type": "display_data"
    },
    {
     "name": "stdout",
     "output_type": "stream",
     "text": [
      "merchantZip\n"
     ]
    },
    {
     "data": {
      "text/plain": [
       "    1.0\n",
       "Name: merchantZip, dtype: float64"
      ]
     },
     "metadata": {},
     "output_type": "display_data"
    },
    {
     "name": "stdout",
     "output_type": "stream",
     "text": [
      "posOnPremises\n"
     ]
    },
    {
     "data": {
      "text/plain": [
       "    1.0\n",
       "Name: posOnPremises, dtype: float64"
      ]
     },
     "metadata": {},
     "output_type": "display_data"
    },
    {
     "name": "stdout",
     "output_type": "stream",
     "text": [
      "recurringAuthInd\n"
     ]
    },
    {
     "data": {
      "text/plain": [
       "    1.0\n",
       "Name: recurringAuthInd, dtype: float64"
      ]
     },
     "metadata": {},
     "output_type": "display_data"
    }
   ],
   "source": [
    "# check some cols which seem useless\n",
    "for col in ['echoBuffer', 'merchantCity', 'merchantState', 'merchantZip', 'posOnPremises', 'recurringAuthInd']:\n",
    "    print(col)\n",
    "    display(df[col].value_counts() / df.shape[0])"
   ]
  },
  {
   "cell_type": "code",
   "execution_count": 7,
   "id": "9eb18c21",
   "metadata": {
    "ExecuteTime": {
     "end_time": "2022-11-25T04:18:17.362828Z",
     "start_time": "2022-11-25T04:18:17.003441Z"
    }
   },
   "outputs": [
    {
     "data": {
      "text/html": [
       "<div>\n",
       "<style scoped>\n",
       "    .dataframe tbody tr th:only-of-type {\n",
       "        vertical-align: middle;\n",
       "    }\n",
       "\n",
       "    .dataframe tbody tr th {\n",
       "        vertical-align: top;\n",
       "    }\n",
       "\n",
       "    .dataframe thead th {\n",
       "        text-align: right;\n",
       "    }\n",
       "</style>\n",
       "<table border=\"1\" class=\"dataframe\">\n",
       "  <thead>\n",
       "    <tr style=\"text-align: right;\">\n",
       "      <th></th>\n",
       "      <th>creditLimit</th>\n",
       "      <th>availableMoney</th>\n",
       "      <th>transactionDateTime</th>\n",
       "      <th>transactionAmount</th>\n",
       "      <th>merchantName</th>\n",
       "      <th>acqCountry</th>\n",
       "      <th>merchantCountryCode</th>\n",
       "      <th>posEntryMode</th>\n",
       "      <th>posConditionCode</th>\n",
       "      <th>merchantCategoryCode</th>\n",
       "      <th>currentExpDate</th>\n",
       "      <th>accountOpenDate</th>\n",
       "      <th>dateOfLastAddressChange</th>\n",
       "      <th>cardCVV</th>\n",
       "      <th>enteredCVV</th>\n",
       "      <th>transactionType</th>\n",
       "      <th>currentBalance</th>\n",
       "      <th>cardPresent</th>\n",
       "      <th>expirationDateKeyInMatch</th>\n",
       "      <th>isFraud</th>\n",
       "    </tr>\n",
       "  </thead>\n",
       "  <tbody>\n",
       "    <tr>\n",
       "      <th>0</th>\n",
       "      <td>5000.0</td>\n",
       "      <td>5000.0</td>\n",
       "      <td>2016-08-13T14:27:32</td>\n",
       "      <td>98.55</td>\n",
       "      <td>Uber</td>\n",
       "      <td>US</td>\n",
       "      <td>US</td>\n",
       "      <td>02</td>\n",
       "      <td>01</td>\n",
       "      <td>rideshare</td>\n",
       "      <td>06/2023</td>\n",
       "      <td>2015-03-14</td>\n",
       "      <td>2015-03-14</td>\n",
       "      <td>414</td>\n",
       "      <td>414</td>\n",
       "      <td>PURCHASE</td>\n",
       "      <td>0.0</td>\n",
       "      <td>False</td>\n",
       "      <td>False</td>\n",
       "      <td>False</td>\n",
       "    </tr>\n",
       "    <tr>\n",
       "      <th>1</th>\n",
       "      <td>5000.0</td>\n",
       "      <td>5000.0</td>\n",
       "      <td>2016-10-11T05:05:54</td>\n",
       "      <td>74.51</td>\n",
       "      <td>AMC #191138</td>\n",
       "      <td>US</td>\n",
       "      <td>US</td>\n",
       "      <td>09</td>\n",
       "      <td>01</td>\n",
       "      <td>entertainment</td>\n",
       "      <td>02/2024</td>\n",
       "      <td>2015-03-14</td>\n",
       "      <td>2015-03-14</td>\n",
       "      <td>486</td>\n",
       "      <td>486</td>\n",
       "      <td>PURCHASE</td>\n",
       "      <td>0.0</td>\n",
       "      <td>True</td>\n",
       "      <td>False</td>\n",
       "      <td>False</td>\n",
       "    </tr>\n",
       "    <tr>\n",
       "      <th>2</th>\n",
       "      <td>5000.0</td>\n",
       "      <td>5000.0</td>\n",
       "      <td>2016-11-08T09:18:39</td>\n",
       "      <td>7.47</td>\n",
       "      <td>Play Store</td>\n",
       "      <td>US</td>\n",
       "      <td>US</td>\n",
       "      <td>09</td>\n",
       "      <td>01</td>\n",
       "      <td>mobileapps</td>\n",
       "      <td>08/2025</td>\n",
       "      <td>2015-03-14</td>\n",
       "      <td>2015-03-14</td>\n",
       "      <td>486</td>\n",
       "      <td>486</td>\n",
       "      <td>PURCHASE</td>\n",
       "      <td>0.0</td>\n",
       "      <td>False</td>\n",
       "      <td>False</td>\n",
       "      <td>False</td>\n",
       "    </tr>\n",
       "    <tr>\n",
       "      <th>3</th>\n",
       "      <td>5000.0</td>\n",
       "      <td>5000.0</td>\n",
       "      <td>2016-12-10T02:14:50</td>\n",
       "      <td>7.47</td>\n",
       "      <td>Play Store</td>\n",
       "      <td>US</td>\n",
       "      <td>US</td>\n",
       "      <td>09</td>\n",
       "      <td>01</td>\n",
       "      <td>mobileapps</td>\n",
       "      <td>08/2025</td>\n",
       "      <td>2015-03-14</td>\n",
       "      <td>2015-03-14</td>\n",
       "      <td>486</td>\n",
       "      <td>486</td>\n",
       "      <td>PURCHASE</td>\n",
       "      <td>0.0</td>\n",
       "      <td>False</td>\n",
       "      <td>False</td>\n",
       "      <td>False</td>\n",
       "    </tr>\n",
       "    <tr>\n",
       "      <th>4</th>\n",
       "      <td>5000.0</td>\n",
       "      <td>5000.0</td>\n",
       "      <td>2016-03-24T21:04:46</td>\n",
       "      <td>71.18</td>\n",
       "      <td>Tim Hortons #947751</td>\n",
       "      <td>US</td>\n",
       "      <td>US</td>\n",
       "      <td>02</td>\n",
       "      <td>01</td>\n",
       "      <td>fastfood</td>\n",
       "      <td>10/2029</td>\n",
       "      <td>2015-08-06</td>\n",
       "      <td>2015-08-06</td>\n",
       "      <td>885</td>\n",
       "      <td>885</td>\n",
       "      <td>PURCHASE</td>\n",
       "      <td>0.0</td>\n",
       "      <td>True</td>\n",
       "      <td>False</td>\n",
       "      <td>False</td>\n",
       "    </tr>\n",
       "  </tbody>\n",
       "</table>\n",
       "</div>"
      ],
      "text/plain": [
       "   creditLimit  availableMoney  transactionDateTime  transactionAmount  \\\n",
       "0       5000.0          5000.0  2016-08-13T14:27:32              98.55   \n",
       "1       5000.0          5000.0  2016-10-11T05:05:54              74.51   \n",
       "2       5000.0          5000.0  2016-11-08T09:18:39               7.47   \n",
       "3       5000.0          5000.0  2016-12-10T02:14:50               7.47   \n",
       "4       5000.0          5000.0  2016-03-24T21:04:46              71.18   \n",
       "\n",
       "          merchantName acqCountry merchantCountryCode posEntryMode  \\\n",
       "0                 Uber         US                  US           02   \n",
       "1          AMC #191138         US                  US           09   \n",
       "2           Play Store         US                  US           09   \n",
       "3           Play Store         US                  US           09   \n",
       "4  Tim Hortons #947751         US                  US           02   \n",
       "\n",
       "  posConditionCode merchantCategoryCode currentExpDate accountOpenDate  \\\n",
       "0               01            rideshare        06/2023      2015-03-14   \n",
       "1               01        entertainment        02/2024      2015-03-14   \n",
       "2               01           mobileapps        08/2025      2015-03-14   \n",
       "3               01           mobileapps        08/2025      2015-03-14   \n",
       "4               01             fastfood        10/2029      2015-08-06   \n",
       "\n",
       "  dateOfLastAddressChange cardCVV enteredCVV transactionType  currentBalance  \\\n",
       "0              2015-03-14     414        414        PURCHASE             0.0   \n",
       "1              2015-03-14     486        486        PURCHASE             0.0   \n",
       "2              2015-03-14     486        486        PURCHASE             0.0   \n",
       "3              2015-03-14     486        486        PURCHASE             0.0   \n",
       "4              2015-08-06     885        885        PURCHASE             0.0   \n",
       "\n",
       "   cardPresent  expirationDateKeyInMatch  isFraud  \n",
       "0        False                     False    False  \n",
       "1         True                     False    False  \n",
       "2        False                     False    False  \n",
       "3        False                     False    False  \n",
       "4         True                     False    False  "
      ]
     },
     "execution_count": 7,
     "metadata": {},
     "output_type": "execute_result"
    }
   ],
   "source": [
    "# remove some useless columns with one value and identifications, we are looking for a pattern not a specific customer\n",
    "useless_cols = ['echoBuffer', 'merchantCity', 'merchantState', 'merchantZip', 'posOnPremises', 'recurringAuthInd',\n",
    "                'accountNumber', 'customerId', 'cardLast4Digits']\n",
    "df.drop(columns=useless_cols, inplace=True)\n",
    "df.head()"
   ]
  },
  {
   "cell_type": "code",
   "execution_count": 8,
   "id": "87121b55",
   "metadata": {
    "ExecuteTime": {
     "end_time": "2022-11-25T04:18:20.370725Z",
     "start_time": "2022-11-25T04:18:18.550282Z"
    },
    "scrolled": true
   },
   "outputs": [
    {
     "data": {
      "text/plain": [
       "(786363, 20)"
      ]
     },
     "execution_count": 8,
     "metadata": {},
     "output_type": "execute_result"
    }
   ],
   "source": [
    "# check duplicated data\n",
    "df.drop_duplicates().shape"
   ]
  },
  {
   "cell_type": "code",
   "execution_count": 9,
   "id": "b55cb715",
   "metadata": {
    "ExecuteTime": {
     "end_time": "2022-11-25T04:18:23.177351Z",
     "start_time": "2022-11-25T04:18:21.484156Z"
    }
   },
   "outputs": [],
   "source": [
    "df.drop_duplicates(inplace=True)"
   ]
  },
  {
   "cell_type": "code",
   "execution_count": 10,
   "id": "1151540e",
   "metadata": {
    "ExecuteTime": {
     "end_time": "2022-11-25T04:18:24.426619Z",
     "start_time": "2022-11-25T04:18:24.082449Z"
    }
   },
   "outputs": [
    {
     "data": {
      "text/html": [
       "<div>\n",
       "<style scoped>\n",
       "    .dataframe tbody tr th:only-of-type {\n",
       "        vertical-align: middle;\n",
       "    }\n",
       "\n",
       "    .dataframe tbody tr th {\n",
       "        vertical-align: top;\n",
       "    }\n",
       "\n",
       "    .dataframe thead th {\n",
       "        text-align: right;\n",
       "    }\n",
       "</style>\n",
       "<table border=\"1\" class=\"dataframe\">\n",
       "  <thead>\n",
       "    <tr style=\"text-align: right;\">\n",
       "      <th></th>\n",
       "      <th>creditLimit</th>\n",
       "      <th>availableMoney</th>\n",
       "      <th>transactionDateTime</th>\n",
       "      <th>transactionAmount</th>\n",
       "      <th>merchantName</th>\n",
       "      <th>acqCountry</th>\n",
       "      <th>merchantCountryCode</th>\n",
       "      <th>posEntryMode</th>\n",
       "      <th>posConditionCode</th>\n",
       "      <th>merchantCategoryCode</th>\n",
       "      <th>currentExpDate</th>\n",
       "      <th>accountOpenDate</th>\n",
       "      <th>dateOfLastAddressChange</th>\n",
       "      <th>transactionType</th>\n",
       "      <th>currentBalance</th>\n",
       "      <th>cardPresent</th>\n",
       "      <th>expirationDateKeyInMatch</th>\n",
       "      <th>isFraud</th>\n",
       "      <th>correctedCVV</th>\n",
       "    </tr>\n",
       "  </thead>\n",
       "  <tbody>\n",
       "    <tr>\n",
       "      <th>0</th>\n",
       "      <td>5000.0</td>\n",
       "      <td>5000.0</td>\n",
       "      <td>2016-08-13T14:27:32</td>\n",
       "      <td>98.55</td>\n",
       "      <td>Uber</td>\n",
       "      <td>US</td>\n",
       "      <td>US</td>\n",
       "      <td>02</td>\n",
       "      <td>01</td>\n",
       "      <td>rideshare</td>\n",
       "      <td>06/2023</td>\n",
       "      <td>2015-03-14</td>\n",
       "      <td>2015-03-14</td>\n",
       "      <td>PURCHASE</td>\n",
       "      <td>0.0</td>\n",
       "      <td>False</td>\n",
       "      <td>False</td>\n",
       "      <td>False</td>\n",
       "      <td>True</td>\n",
       "    </tr>\n",
       "    <tr>\n",
       "      <th>1</th>\n",
       "      <td>5000.0</td>\n",
       "      <td>5000.0</td>\n",
       "      <td>2016-10-11T05:05:54</td>\n",
       "      <td>74.51</td>\n",
       "      <td>AMC #191138</td>\n",
       "      <td>US</td>\n",
       "      <td>US</td>\n",
       "      <td>09</td>\n",
       "      <td>01</td>\n",
       "      <td>entertainment</td>\n",
       "      <td>02/2024</td>\n",
       "      <td>2015-03-14</td>\n",
       "      <td>2015-03-14</td>\n",
       "      <td>PURCHASE</td>\n",
       "      <td>0.0</td>\n",
       "      <td>True</td>\n",
       "      <td>False</td>\n",
       "      <td>False</td>\n",
       "      <td>True</td>\n",
       "    </tr>\n",
       "    <tr>\n",
       "      <th>2</th>\n",
       "      <td>5000.0</td>\n",
       "      <td>5000.0</td>\n",
       "      <td>2016-11-08T09:18:39</td>\n",
       "      <td>7.47</td>\n",
       "      <td>Play Store</td>\n",
       "      <td>US</td>\n",
       "      <td>US</td>\n",
       "      <td>09</td>\n",
       "      <td>01</td>\n",
       "      <td>mobileapps</td>\n",
       "      <td>08/2025</td>\n",
       "      <td>2015-03-14</td>\n",
       "      <td>2015-03-14</td>\n",
       "      <td>PURCHASE</td>\n",
       "      <td>0.0</td>\n",
       "      <td>False</td>\n",
       "      <td>False</td>\n",
       "      <td>False</td>\n",
       "      <td>True</td>\n",
       "    </tr>\n",
       "    <tr>\n",
       "      <th>3</th>\n",
       "      <td>5000.0</td>\n",
       "      <td>5000.0</td>\n",
       "      <td>2016-12-10T02:14:50</td>\n",
       "      <td>7.47</td>\n",
       "      <td>Play Store</td>\n",
       "      <td>US</td>\n",
       "      <td>US</td>\n",
       "      <td>09</td>\n",
       "      <td>01</td>\n",
       "      <td>mobileapps</td>\n",
       "      <td>08/2025</td>\n",
       "      <td>2015-03-14</td>\n",
       "      <td>2015-03-14</td>\n",
       "      <td>PURCHASE</td>\n",
       "      <td>0.0</td>\n",
       "      <td>False</td>\n",
       "      <td>False</td>\n",
       "      <td>False</td>\n",
       "      <td>True</td>\n",
       "    </tr>\n",
       "    <tr>\n",
       "      <th>4</th>\n",
       "      <td>5000.0</td>\n",
       "      <td>5000.0</td>\n",
       "      <td>2016-03-24T21:04:46</td>\n",
       "      <td>71.18</td>\n",
       "      <td>Tim Hortons #947751</td>\n",
       "      <td>US</td>\n",
       "      <td>US</td>\n",
       "      <td>02</td>\n",
       "      <td>01</td>\n",
       "      <td>fastfood</td>\n",
       "      <td>10/2029</td>\n",
       "      <td>2015-08-06</td>\n",
       "      <td>2015-08-06</td>\n",
       "      <td>PURCHASE</td>\n",
       "      <td>0.0</td>\n",
       "      <td>True</td>\n",
       "      <td>False</td>\n",
       "      <td>False</td>\n",
       "      <td>True</td>\n",
       "    </tr>\n",
       "  </tbody>\n",
       "</table>\n",
       "</div>"
      ],
      "text/plain": [
       "   creditLimit  availableMoney  transactionDateTime  transactionAmount  \\\n",
       "0       5000.0          5000.0  2016-08-13T14:27:32              98.55   \n",
       "1       5000.0          5000.0  2016-10-11T05:05:54              74.51   \n",
       "2       5000.0          5000.0  2016-11-08T09:18:39               7.47   \n",
       "3       5000.0          5000.0  2016-12-10T02:14:50               7.47   \n",
       "4       5000.0          5000.0  2016-03-24T21:04:46              71.18   \n",
       "\n",
       "          merchantName acqCountry merchantCountryCode posEntryMode  \\\n",
       "0                 Uber         US                  US           02   \n",
       "1          AMC #191138         US                  US           09   \n",
       "2           Play Store         US                  US           09   \n",
       "3           Play Store         US                  US           09   \n",
       "4  Tim Hortons #947751         US                  US           02   \n",
       "\n",
       "  posConditionCode merchantCategoryCode currentExpDate accountOpenDate  \\\n",
       "0               01            rideshare        06/2023      2015-03-14   \n",
       "1               01        entertainment        02/2024      2015-03-14   \n",
       "2               01           mobileapps        08/2025      2015-03-14   \n",
       "3               01           mobileapps        08/2025      2015-03-14   \n",
       "4               01             fastfood        10/2029      2015-08-06   \n",
       "\n",
       "  dateOfLastAddressChange transactionType  currentBalance  cardPresent  \\\n",
       "0              2015-03-14        PURCHASE             0.0        False   \n",
       "1              2015-03-14        PURCHASE             0.0         True   \n",
       "2              2015-03-14        PURCHASE             0.0        False   \n",
       "3              2015-03-14        PURCHASE             0.0        False   \n",
       "4              2015-08-06        PURCHASE             0.0         True   \n",
       "\n",
       "   expirationDateKeyInMatch  isFraud  correctedCVV  \n",
       "0                     False    False          True  \n",
       "1                     False    False          True  \n",
       "2                     False    False          True  \n",
       "3                     False    False          True  \n",
       "4                     False    False          True  "
      ]
     },
     "execution_count": 10,
     "metadata": {},
     "output_type": "execute_result"
    }
   ],
   "source": [
    "# create features related to CVV and remove the old CVV features\n",
    "df['correctedCVV'] = df.cardCVV == df.enteredCVV\n",
    "df.drop(columns=['cardCVV', 'enteredCVV'], inplace=True)\n",
    "df.head()"
   ]
  },
  {
   "cell_type": "code",
   "execution_count": 11,
   "id": "f9cbd1dc",
   "metadata": {
    "ExecuteTime": {
     "end_time": "2022-11-25T04:18:42.637550Z",
     "start_time": "2022-11-25T04:18:26.379536Z"
    }
   },
   "outputs": [
    {
     "data": {
      "text/html": [
       "<div>\n",
       "<style scoped>\n",
       "    .dataframe tbody tr th:only-of-type {\n",
       "        vertical-align: middle;\n",
       "    }\n",
       "\n",
       "    .dataframe tbody tr th {\n",
       "        vertical-align: top;\n",
       "    }\n",
       "\n",
       "    .dataframe thead th {\n",
       "        text-align: right;\n",
       "    }\n",
       "</style>\n",
       "<table border=\"1\" class=\"dataframe\">\n",
       "  <thead>\n",
       "    <tr style=\"text-align: right;\">\n",
       "      <th></th>\n",
       "      <th>creditLimit</th>\n",
       "      <th>availableMoney</th>\n",
       "      <th>transactionAmount</th>\n",
       "      <th>merchantName</th>\n",
       "      <th>acqCountry</th>\n",
       "      <th>merchantCountryCode</th>\n",
       "      <th>posEntryMode</th>\n",
       "      <th>posConditionCode</th>\n",
       "      <th>merchantCategoryCode</th>\n",
       "      <th>transactionType</th>\n",
       "      <th>currentBalance</th>\n",
       "      <th>cardPresent</th>\n",
       "      <th>expirationDateKeyInMatch</th>\n",
       "      <th>isFraud</th>\n",
       "      <th>correctedCVV</th>\n",
       "      <th>transactionDays</th>\n",
       "      <th>currentExpDays</th>\n",
       "      <th>addressChangeDays</th>\n",
       "      <th>transactionDOW</th>\n",
       "      <th>transactionWeek</th>\n",
       "      <th>transactionHour</th>\n",
       "    </tr>\n",
       "  </thead>\n",
       "  <tbody>\n",
       "    <tr>\n",
       "      <th>0</th>\n",
       "      <td>5000.0</td>\n",
       "      <td>5000.0</td>\n",
       "      <td>98.55</td>\n",
       "      <td>Uber</td>\n",
       "      <td>US</td>\n",
       "      <td>US</td>\n",
       "      <td>02</td>\n",
       "      <td>01</td>\n",
       "      <td>rideshare</td>\n",
       "      <td>PURCHASE</td>\n",
       "      <td>0.0</td>\n",
       "      <td>False</td>\n",
       "      <td>False</td>\n",
       "      <td>False</td>\n",
       "      <td>True</td>\n",
       "      <td>518</td>\n",
       "      <td>3001</td>\n",
       "      <td>0</td>\n",
       "      <td>5</td>\n",
       "      <td>32</td>\n",
       "      <td>14</td>\n",
       "    </tr>\n",
       "    <tr>\n",
       "      <th>1</th>\n",
       "      <td>5000.0</td>\n",
       "      <td>5000.0</td>\n",
       "      <td>74.51</td>\n",
       "      <td>AMC #191138</td>\n",
       "      <td>US</td>\n",
       "      <td>US</td>\n",
       "      <td>09</td>\n",
       "      <td>01</td>\n",
       "      <td>entertainment</td>\n",
       "      <td>PURCHASE</td>\n",
       "      <td>0.0</td>\n",
       "      <td>True</td>\n",
       "      <td>False</td>\n",
       "      <td>False</td>\n",
       "      <td>True</td>\n",
       "      <td>577</td>\n",
       "      <td>3246</td>\n",
       "      <td>0</td>\n",
       "      <td>1</td>\n",
       "      <td>41</td>\n",
       "      <td>5</td>\n",
       "    </tr>\n",
       "    <tr>\n",
       "      <th>2</th>\n",
       "      <td>5000.0</td>\n",
       "      <td>5000.0</td>\n",
       "      <td>7.47</td>\n",
       "      <td>Play Store</td>\n",
       "      <td>US</td>\n",
       "      <td>US</td>\n",
       "      <td>09</td>\n",
       "      <td>01</td>\n",
       "      <td>mobileapps</td>\n",
       "      <td>PURCHASE</td>\n",
       "      <td>0.0</td>\n",
       "      <td>False</td>\n",
       "      <td>False</td>\n",
       "      <td>False</td>\n",
       "      <td>True</td>\n",
       "      <td>605</td>\n",
       "      <td>3793</td>\n",
       "      <td>0</td>\n",
       "      <td>1</td>\n",
       "      <td>45</td>\n",
       "      <td>9</td>\n",
       "    </tr>\n",
       "    <tr>\n",
       "      <th>3</th>\n",
       "      <td>5000.0</td>\n",
       "      <td>5000.0</td>\n",
       "      <td>7.47</td>\n",
       "      <td>Play Store</td>\n",
       "      <td>US</td>\n",
       "      <td>US</td>\n",
       "      <td>09</td>\n",
       "      <td>01</td>\n",
       "      <td>mobileapps</td>\n",
       "      <td>PURCHASE</td>\n",
       "      <td>0.0</td>\n",
       "      <td>False</td>\n",
       "      <td>False</td>\n",
       "      <td>False</td>\n",
       "      <td>True</td>\n",
       "      <td>637</td>\n",
       "      <td>3793</td>\n",
       "      <td>0</td>\n",
       "      <td>5</td>\n",
       "      <td>49</td>\n",
       "      <td>2</td>\n",
       "    </tr>\n",
       "    <tr>\n",
       "      <th>4</th>\n",
       "      <td>5000.0</td>\n",
       "      <td>5000.0</td>\n",
       "      <td>71.18</td>\n",
       "      <td>Tim Hortons #947751</td>\n",
       "      <td>US</td>\n",
       "      <td>US</td>\n",
       "      <td>02</td>\n",
       "      <td>01</td>\n",
       "      <td>fastfood</td>\n",
       "      <td>PURCHASE</td>\n",
       "      <td>0.0</td>\n",
       "      <td>True</td>\n",
       "      <td>False</td>\n",
       "      <td>False</td>\n",
       "      <td>True</td>\n",
       "      <td>231</td>\n",
       "      <td>5170</td>\n",
       "      <td>0</td>\n",
       "      <td>3</td>\n",
       "      <td>12</td>\n",
       "      <td>21</td>\n",
       "    </tr>\n",
       "  </tbody>\n",
       "</table>\n",
       "</div>"
      ],
      "text/plain": [
       "   creditLimit  availableMoney  transactionAmount         merchantName  \\\n",
       "0       5000.0          5000.0              98.55                 Uber   \n",
       "1       5000.0          5000.0              74.51          AMC #191138   \n",
       "2       5000.0          5000.0               7.47           Play Store   \n",
       "3       5000.0          5000.0               7.47           Play Store   \n",
       "4       5000.0          5000.0              71.18  Tim Hortons #947751   \n",
       "\n",
       "  acqCountry merchantCountryCode posEntryMode posConditionCode  \\\n",
       "0         US                  US           02               01   \n",
       "1         US                  US           09               01   \n",
       "2         US                  US           09               01   \n",
       "3         US                  US           09               01   \n",
       "4         US                  US           02               01   \n",
       "\n",
       "  merchantCategoryCode transactionType  currentBalance  cardPresent  \\\n",
       "0            rideshare        PURCHASE             0.0        False   \n",
       "1        entertainment        PURCHASE             0.0         True   \n",
       "2           mobileapps        PURCHASE             0.0        False   \n",
       "3           mobileapps        PURCHASE             0.0        False   \n",
       "4             fastfood        PURCHASE             0.0         True   \n",
       "\n",
       "   expirationDateKeyInMatch  isFraud  correctedCVV  transactionDays  \\\n",
       "0                     False    False          True              518   \n",
       "1                     False    False          True              577   \n",
       "2                     False    False          True              605   \n",
       "3                     False    False          True              637   \n",
       "4                     False    False          True              231   \n",
       "\n",
       "   currentExpDays  addressChangeDays  transactionDOW  transactionWeek  \\\n",
       "0            3001                  0               5               32   \n",
       "1            3246                  0               1               41   \n",
       "2            3793                  0               1               45   \n",
       "3            3793                  0               5               49   \n",
       "4            5170                  0               3               12   \n",
       "\n",
       "   transactionHour  \n",
       "0               14  \n",
       "1                5  \n",
       "2                9  \n",
       "3                2  \n",
       "4               21  "
      ]
     },
     "execution_count": 11,
     "metadata": {},
     "output_type": "execute_result"
    }
   ],
   "source": [
    "# calcluate some date realted features and remove date columns\n",
    "date_cols = ['transactionDateTime', 'currentExpDate',\n",
    "             'accountOpenDate', 'dateOfLastAddressChange']\n",
    "for i in date_cols:\n",
    "    df[i] = pd.to_datetime(df[i])\n",
    "\n",
    "# create some date features\n",
    "df['transactionDays'] = (df.transactionDateTime.dt.date -\n",
    "                         df.accountOpenDate.dt.date).dt.days\n",
    "df['currentExpDays'] = (df.currentExpDate.dt.date -\n",
    "                        df.accountOpenDate.dt.date).dt.days\n",
    "df['addressChangeDays'] = (\n",
    "    df.dateOfLastAddressChange.dt.date - df.accountOpenDate.dt.date).dt.days\n",
    "df['transactionDOW'] = df.transactionDateTime.dt.dayofweek\n",
    "df['transactionWeek'] = df.transactionDateTime.dt.isocalendar().week\n",
    "df['transactionHour'] = df.transactionDateTime.dt.hour\n",
    "\n",
    "# remove date_cols\n",
    "df.drop(columns=date_cols, inplace=True)\n",
    "df.head()"
   ]
  },
  {
   "cell_type": "code",
   "execution_count": 12,
   "id": "253306ee",
   "metadata": {
    "ExecuteTime": {
     "end_time": "2022-11-25T04:18:43.544484Z",
     "start_time": "2022-11-25T04:18:42.637550Z"
    }
   },
   "outputs": [
    {
     "name": "stdout",
     "output_type": "stream",
     "text": [
      "Uber                             25613\n",
      "Lyft                             25523\n",
      "oldnavy.com                      16992\n",
      "staples.com                      16980\n",
      "alibaba.com                      16959\n",
      "                                 ...  \n",
      "Sprint Communications #561941        2\n",
      "Runners #383214                      2\n",
      "Curves #849125                       1\n",
      "EZ Wireless #149871                  1\n",
      "TMobile Wireless #602341             1\n",
      "Name: merchantName, Length: 2490, dtype: int64\n",
      "['Uber' 'AMC #191138' 'Play Store' ... 'ATT #141119' 'EZ Wireless #200746'\n",
      " 'Runners #747070']\n",
      "______\n",
      "US     774709\n",
      "         4562\n",
      "MEX      3130\n",
      "CAN      2424\n",
      "PR       1538\n",
      "Name: acqCountry, dtype: int64\n",
      "['US' '' 'CAN' 'MEX' 'PR']\n",
      "______\n",
      "US     778511\n",
      "MEX      3143\n",
      "CAN      2426\n",
      "PR       1559\n",
      "          724\n",
      "Name: merchantCountryCode, dtype: int64\n",
      "['US' 'CAN' '' 'PR' 'MEX']\n",
      "______\n",
      "05    315035\n",
      "09    236481\n",
      "02    195934\n",
      "90     19576\n",
      "80     15283\n",
      "        4054\n",
      "Name: posEntryMode, dtype: int64\n",
      "['02' '09' '05' '80' '90' '']\n",
      "______\n",
      "01    628787\n",
      "08    149634\n",
      "99      7533\n",
      "         409\n",
      "Name: posConditionCode, dtype: int64\n",
      "['01' '08' '99' '']\n",
      "______\n",
      "online_retail           202156\n",
      "fastfood                112138\n",
      "entertainment            80098\n",
      "food                     75490\n",
      "online_gifts             66238\n",
      "rideshare                51136\n",
      "hotels                   34097\n",
      "fuel                     23910\n",
      "subscriptions            22901\n",
      "auto                     21651\n",
      "health                   19092\n",
      "personal care            18964\n",
      "airline                  15412\n",
      "mobileapps               14990\n",
      "online_subscriptions     11067\n",
      "furniture                 7432\n",
      "food_delivery             6000\n",
      "gym                       2209\n",
      "cable/phone               1382\n",
      "Name: merchantCategoryCode, dtype: int64\n",
      "['rideshare' 'entertainment' 'mobileapps' 'fastfood' 'food_delivery'\n",
      " 'auto' 'online_retail' 'gym' 'health' 'personal care' 'food' 'fuel'\n",
      " 'online_subscriptions' 'online_gifts' 'hotels' 'airline' 'furniture'\n",
      " 'subscriptions' 'cable/phone']\n",
      "______\n",
      "PURCHASE                745193\n",
      "REVERSAL                 20303\n",
      "ADDRESS_VERIFICATION     20169\n",
      "                           698\n",
      "Name: transactionType, dtype: int64\n",
      "['PURCHASE' 'ADDRESS_VERIFICATION' 'REVERSAL' '']\n",
      "______\n"
     ]
    }
   ],
   "source": [
    "# check unique values for object columns\n",
    "for i in df.select_dtypes(include=['object']).columns:\n",
    "    print(df[i].value_counts())\n",
    "    print(df[i].unique())\n",
    "    print('______')"
   ]
  },
  {
   "cell_type": "code",
   "execution_count": 13,
   "id": "f071215d",
   "metadata": {
    "ExecuteTime": {
     "end_time": "2022-11-25T04:18:45.246954Z",
     "start_time": "2022-11-25T04:18:43.547483Z"
    }
   },
   "outputs": [],
   "source": [
    "# remove object columns with empty string, this is kind of null values\n",
    "for i in df.select_dtypes(include=['object']).columns:\n",
    "    df = df.loc[df[i] != '']"
   ]
  },
  {
   "cell_type": "code",
   "execution_count": 14,
   "id": "dcf2018e",
   "metadata": {
    "ExecuteTime": {
     "end_time": "2022-11-25T04:18:45.340691Z",
     "start_time": "2022-11-25T04:18:45.246954Z"
    }
   },
   "outputs": [
    {
     "data": {
      "text/plain": [
       "2489"
      ]
     },
     "execution_count": 14,
     "metadata": {},
     "output_type": "execute_result"
    }
   ],
   "source": [
    "# check the unique number of merchantName col\n",
    "df.merchantName.nunique()"
   ]
  },
  {
   "cell_type": "code",
   "execution_count": 15,
   "id": "0c725f89",
   "metadata": {
    "ExecuteTime": {
     "end_time": "2022-11-25T04:19:12.846808Z",
     "start_time": "2022-11-25T04:18:45.340691Z"
    }
   },
   "outputs": [
    {
     "data": {
      "text/plain": [
       "205"
      ]
     },
     "execution_count": 15,
     "metadata": {},
     "output_type": "execute_result"
    }
   ],
   "source": [
    "# it's found that merchantName contains many store with store id like ATT #141119\n",
    "# find all different store name and combine them\n",
    "store_names = df.loc[df.merchantName.str.contains(\n",
    "    ' #'), 'merchantName'].unique().tolist()\n",
    "store_names = set([i.split('#')[0] for i in store_names])\n",
    "\n",
    "for i in store_names:\n",
    "    df.loc[df.merchantName.str.contains(f'{i}#'), 'merchantName'] = i.strip()\n",
    "\n",
    "# check nunique\n",
    "df.merchantName.nunique()"
   ]
  },
  {
   "cell_type": "code",
   "execution_count": 16,
   "id": "66756bc4",
   "metadata": {
    "ExecuteTime": {
     "end_time": "2022-11-25T04:19:12.956969Z",
     "start_time": "2022-11-25T04:19:12.846808Z"
    }
   },
   "outputs": [
    {
     "data": {
      "text/plain": [
       "array(['Uber', 'AMC', 'Play Store', 'Tim Hortons', 'In-N-Out',\n",
       "       'Krispy Kreme', 'Shake Shack', 'Five Guys', \"Auntie Anne's\",\n",
       "       'GreenCook', 'Washington Repair', 'Eazy Tire',\n",
       "       'Convenient Auto Services', 'Shell Auto Body',\n",
       "       'Fast Auto Services', 'staples.com', 'Convenient Repair',\n",
       "       'Shell Repair', 'Eazy Repair', 'Fast Repair', 'Eazy Auto Body',\n",
       "       'Washington Tire', 'target.com', 'Convenient Tire', 'amazon.com',\n",
       "       'Shell Tire', 'Merchants Auto Body', 'gap.com', 'Fast Tire',\n",
       "       'sears.com', 'apple.com', 'Merchants Tire', 'Ricks Auto Body',\n",
       "       'Merchants Auto Services', 'Curves', 'oldnavy.com',\n",
       "       'Washington Auto Body', 'ebay.com', 'discount.com', 'alibaba.com',\n",
       "       'CVS', 'Walgreens', 'WSC', 'Universe Massage', 'Powerlifting',\n",
       "       '1st Sandwitch Bar', 'NYSC', 'Lyft', 'Planet Fitness', 'Golds Gym',\n",
       "       'Boston Fries', 'South Steakhouse', '53rd Beauty', 'Regal Cinemas',\n",
       "       \"John's Cafe\", 'Rock Weights', 'Downtown BBQ', '34th Pub',\n",
       "       'EZ Putt Putt', 'Franks Sandwitch Bar', '53rd Spa',\n",
       "       'West End Beauty', 'Franks Pub', \"Ray's Fries\", 'Uptown Diner',\n",
       "       'Uptown BBQ', '53rd Massage', '1st Deli', 'Downtown Diner',\n",
       "       'Dinosaur Restaurant', 'Texas Gas', '34th BBQ', 'Northtown Salon',\n",
       "       'Downtown Sandwitch Bar', 'Best Deli', 'Boston Cafe',\n",
       "       'Annies Fries', 'cheapfast.com', 'Uptown Steakhouse',\n",
       "       'walmart.com', '1st Restaurant', 'South BBQ', 'Spotify', 'abc.com',\n",
       "       'Taco Bell', 'Northtown Massage', \"Quizno's\", 'Cinnabon', 'Subway',\n",
       "       \"Domino's Pizza\", 'Wendys', 'Popeyes', 'Dairy Queen', 'KFC',\n",
       "       'Pizza Hut', \"Dunkin' Donuts\", 'Boston Pub', 'Arbys', 'McDonalds',\n",
       "       \"Hardee's\", 'Franks Restaurant', 'Burger King', 'Northtown Beauty',\n",
       "       'Dinosaur Fries', 'Starbucks', 'West End Massage', 'Uptown Fries',\n",
       "       'Dinosaur Sandwitch Bar', 'Apple iTunes',\n",
       "       'Next Day Online Services', 'Blue Mountain eCards', 'NY BBQ',\n",
       "       '1st BBQ', 'Hilton Hotels', 'Dinosaur Drive in', 'Best Bistro',\n",
       "       'Renaissance Hotel', 'Rodeway Inn', 'Franks Deli',\n",
       "       'Icelandic Airlines', 'American Airlines', 'Delta Airlines',\n",
       "       'Virgin Airlines', 'United Airlines', 'Fresh Online Services',\n",
       "       'Ricks Repair', 'Fresh Flowers', 'Blue Mountain Online Services',\n",
       "       'Fresh eCards', 'Next Day eCards', 'hulu.com', 'netflix.com',\n",
       "       'Shell Gas', 'ethanallen.com', 'Wayfair.com', 'Rove Concepts',\n",
       "       'pottery-barn.com', 'South Sandwitch Bar', 'South Drive in',\n",
       "       '1st Pub', \"John's Bistro\", 'Boston Diner', 'Uptown Cafe',\n",
       "       'Franks Cafe', 'LES Pizza', 'Boston Bistro', 'South Restaurant',\n",
       "       'NY Deli', 'Sunoco Gas', 'Dallas Post', 'Washington News',\n",
       "       'Washington Times', 'Dallas Journal', 'Wall Street Times',\n",
       "       'Seattle News', 'Washington Post', 'Wall Street News',\n",
       "       'San Francisco Post', 'Los Angeles News', 'Oklahoma City Times',\n",
       "       'Oklahoma City Post', 'Seattle Times', 'NY News', 'Chicago News',\n",
       "       '34th Diner', 'Hyatt House', 'Mobile eCards', 'Downtown Pub',\n",
       "       '34th Bistro', 'Best Fries', 'Best Pub', 'Mobil Gas', 'South Cafe',\n",
       "       'Aloft', 'Holiday Inn', 'Virgin', 'ashleyfurniture.com',\n",
       "       'Bobs Furniture', 'Raymour Flanigan', 'Williams Sonoma',\n",
       "       '86th Massage', 'Minneapolis News', 'Pottery Barn', 'ikea.com',\n",
       "       'Ethan Allen', 'Ashley Furniture', 'West Elm', 'TMobile Wireless',\n",
       "       'westelm.com', 'williamssonoma.com', 'Runners', 'Marriott Hotels',\n",
       "       'Daily Fresh', 'Sprint PCS', 'MyApron', 'Fast Mobile',\n",
       "       'EZ Wireless', 'DailyOmnivore', 'Sprint Communications',\n",
       "       'Duane Reed', 'Barbells', 'Boost Mobile', 'Verizon Wireless',\n",
       "       'ATT', 'My Fitness'], dtype=object)"
      ]
     },
     "execution_count": 16,
     "metadata": {},
     "output_type": "execute_result"
    }
   ],
   "source": [
    "# check unique values\n",
    "df.merchantName.unique()"
   ]
  },
  {
   "cell_type": "code",
   "execution_count": 17,
   "id": "c2b786a5",
   "metadata": {
    "ExecuteTime": {
     "end_time": "2022-11-25T04:19:12.988220Z",
     "start_time": "2022-11-25T04:19:12.956969Z"
    }
   },
   "outputs": [
    {
     "data": {
      "text/html": [
       "<div>\n",
       "<style scoped>\n",
       "    .dataframe tbody tr th:only-of-type {\n",
       "        vertical-align: middle;\n",
       "    }\n",
       "\n",
       "    .dataframe tbody tr th {\n",
       "        vertical-align: top;\n",
       "    }\n",
       "\n",
       "    .dataframe thead th {\n",
       "        text-align: right;\n",
       "    }\n",
       "</style>\n",
       "<table border=\"1\" class=\"dataframe\">\n",
       "  <thead>\n",
       "    <tr style=\"text-align: right;\">\n",
       "      <th></th>\n",
       "      <th>index</th>\n",
       "      <th>cnt</th>\n",
       "    </tr>\n",
       "  </thead>\n",
       "  <tbody>\n",
       "    <tr>\n",
       "      <th>0</th>\n",
       "      <td>Lyft</td>\n",
       "      <td>739</td>\n",
       "    </tr>\n",
       "    <tr>\n",
       "      <th>1</th>\n",
       "      <td>ebay.com</td>\n",
       "      <td>629</td>\n",
       "    </tr>\n",
       "    <tr>\n",
       "      <th>2</th>\n",
       "      <td>Fresh Flowers</td>\n",
       "      <td>529</td>\n",
       "    </tr>\n",
       "    <tr>\n",
       "      <th>3</th>\n",
       "      <td>Uber</td>\n",
       "      <td>494</td>\n",
       "    </tr>\n",
       "    <tr>\n",
       "      <th>4</th>\n",
       "      <td>EZ Putt Putt</td>\n",
       "      <td>475</td>\n",
       "    </tr>\n",
       "  </tbody>\n",
       "</table>\n",
       "</div>"
      ],
      "text/plain": [
       "           index  cnt\n",
       "0           Lyft  739\n",
       "1       ebay.com  629\n",
       "2  Fresh Flowers  529\n",
       "3           Uber  494\n",
       "4   EZ Putt Putt  475"
      ]
     },
     "execution_count": 17,
     "metadata": {},
     "output_type": "execute_result"
    }
   ],
   "source": [
    "# still too many, find the one with major Fraud merchantName\n",
    "fraudMerchantName = df.loc[df.isFraud == True,\n",
    "                           'merchantName'].value_counts().reset_index(name='cnt')\n",
    "fraudMerchantName.head()"
   ]
  },
  {
   "cell_type": "code",
   "execution_count": 18,
   "id": "d11c7f63",
   "metadata": {
    "ExecuteTime": {
     "end_time": "2022-11-25T04:19:13.019505Z",
     "start_time": "2022-11-25T04:19:12.988220Z"
    }
   },
   "outputs": [
    {
     "data": {
      "text/plain": [
       "count    173.00000\n",
       "mean      69.16763\n",
       "std      130.99410\n",
       "min        1.00000\n",
       "25%        9.00000\n",
       "50%       16.00000\n",
       "75%       45.00000\n",
       "max      739.00000\n",
       "Name: cnt, dtype: float64"
      ]
     },
     "execution_count": 18,
     "metadata": {},
     "output_type": "execute_result"
    }
   ],
   "source": [
    "# check distribution\n",
    "fraudMerchantName.cnt.describe()"
   ]
  },
  {
   "cell_type": "code",
   "execution_count": 19,
   "id": "d74c0d14",
   "metadata": {
    "ExecuteTime": {
     "end_time": "2022-11-25T04:19:13.066382Z",
     "start_time": "2022-11-25T04:19:13.019505Z"
    }
   },
   "outputs": [
    {
     "data": {
      "text/plain": [
       "0.8064516129032258"
      ]
     },
     "execution_count": 19,
     "metadata": {},
     "output_type": "execute_result"
    }
   ],
   "source": [
    "# find a cutoff to cover at least 80% of all Fraud transactions\n",
    "fraudMerchantName.loc[fraudMerchantName.cnt >= fraudMerchantName.cnt.quantile(\n",
    "    q=0.80), 'cnt'].sum() / df.loc[df.isFraud == True].shape[0]"
   ]
  },
  {
   "cell_type": "code",
   "execution_count": 20,
   "id": "26bb1084",
   "metadata": {
    "ExecuteTime": {
     "end_time": "2022-11-25T04:19:13.238225Z",
     "start_time": "2022-11-25T04:19:13.066382Z"
    }
   },
   "outputs": [
    {
     "data": {
      "text/plain": [
       "36"
      ]
     },
     "execution_count": 20,
     "metadata": {},
     "output_type": "execute_result"
    }
   ],
   "source": [
    "# keep most frequent merchant names with quantile 0.8\n",
    "high_freq_fraud_mechant_names = fraudMerchantName.loc[fraudMerchantName.cnt >= fraudMerchantName.cnt.quantile(\n",
    "    q=0.80), 'index']\n",
    "\n",
    "# use others to replace other merchantName values\n",
    "df.loc[~df.merchantName.isin(\n",
    "    high_freq_fraud_mechant_names), 'merchantName'] = 'others'\n",
    "\n",
    "df.merchantName.nunique()"
   ]
  },
  {
   "cell_type": "markdown",
   "id": "5c004d29",
   "metadata": {},
   "source": [
    "The number of unique values in merchantName changes from 2489 to 36"
   ]
  },
  {
   "cell_type": "code",
   "execution_count": 21,
   "id": "1c410e56",
   "metadata": {
    "ExecuteTime": {
     "end_time": "2022-11-25T04:19:14.395085Z",
     "start_time": "2022-11-25T04:19:13.238225Z"
    }
   },
   "outputs": [
    {
     "data": {
      "text/plain": [
       "creditLimit                 0\n",
       "availableMoney              0\n",
       "transactionAmount           0\n",
       "merchantName                0\n",
       "acqCountry                  0\n",
       "merchantCountryCode         0\n",
       "posEntryMode                0\n",
       "posConditionCode            0\n",
       "merchantCategoryCode        0\n",
       "transactionType             0\n",
       "currentBalance              0\n",
       "cardPresent                 0\n",
       "expirationDateKeyInMatch    0\n",
       "isFraud                     0\n",
       "correctedCVV                0\n",
       "transactionDays             0\n",
       "currentExpDays              0\n",
       "addressChangeDays           0\n",
       "transactionDOW              0\n",
       "transactionWeek             0\n",
       "transactionHour             0\n",
       "dtype: int64"
      ]
     },
     "execution_count": 21,
     "metadata": {},
     "output_type": "execute_result"
    }
   ],
   "source": [
    "# check null\n",
    "df.isnull().sum()"
   ]
  },
  {
   "cell_type": "code",
   "execution_count": 22,
   "id": "b34e53f2",
   "metadata": {
    "ExecuteTime": {
     "end_time": "2022-11-25T04:19:14.425699Z",
     "start_time": "2022-11-25T04:19:14.399701Z"
    }
   },
   "outputs": [
    {
     "data": {
      "text/plain": [
       "creditLimit                 float64\n",
       "availableMoney              float64\n",
       "transactionAmount           float64\n",
       "merchantName                 object\n",
       "acqCountry                   object\n",
       "merchantCountryCode          object\n",
       "posEntryMode                 object\n",
       "posConditionCode             object\n",
       "merchantCategoryCode         object\n",
       "transactionType              object\n",
       "currentBalance              float64\n",
       "cardPresent                    bool\n",
       "expirationDateKeyInMatch       bool\n",
       "isFraud                        bool\n",
       "correctedCVV                   bool\n",
       "transactionDays               int64\n",
       "currentExpDays                int64\n",
       "addressChangeDays             int64\n",
       "transactionDOW                int64\n",
       "transactionWeek              UInt32\n",
       "transactionHour               int64\n",
       "dtype: object"
      ]
     },
     "execution_count": 22,
     "metadata": {},
     "output_type": "execute_result"
    }
   ],
   "source": [
    "# check data types\n",
    "df.dtypes"
   ]
  },
  {
   "cell_type": "code",
   "execution_count": 23,
   "id": "84776658",
   "metadata": {
    "ExecuteTime": {
     "end_time": "2022-11-25T04:19:15.994341Z",
     "start_time": "2022-11-25T04:19:14.429700Z"
    }
   },
   "outputs": [
    {
     "data": {
      "text/plain": [
       "(776419, 21)"
      ]
     },
     "execution_count": 23,
     "metadata": {},
     "output_type": "execute_result"
    }
   ],
   "source": [
    "# check duplicated data\n",
    "df.drop_duplicates().shape"
   ]
  },
  {
   "cell_type": "code",
   "execution_count": 24,
   "id": "da29155e",
   "metadata": {
    "ExecuteTime": {
     "end_time": "2022-11-25T04:19:17.436547Z",
     "start_time": "2022-11-25T04:19:15.994341Z"
    }
   },
   "outputs": [],
   "source": [
    "df.drop_duplicates(inplace=True)"
   ]
  },
  {
   "cell_type": "code",
   "execution_count": 25,
   "id": "209ee583",
   "metadata": {
    "ExecuteTime": {
     "end_time": "2022-11-25T04:19:17.740355Z",
     "start_time": "2022-11-25T04:19:17.439526Z"
    },
    "scrolled": false
   },
   "outputs": [
    {
     "data": {
      "image/png": "[encoded data removed]",
      "text/plain": [
       "<Figure size 432x288 with 1 Axes>"
      ]
     },
     "metadata": {
      "needs_background": "light"
     },
     "output_type": "display_data"
    }
   ],
   "source": [
    "# check data distribution for numeric columns\n",
    "col = 'creditLimit'\n",
    "df[col].hist();"
   ]
  },
  {
   "cell_type": "code",
   "execution_count": 26,
   "id": "22972310",
   "metadata": {
    "ExecuteTime": {
     "end_time": "2022-11-25T04:19:17.932391Z",
     "start_time": "2022-11-25T04:19:17.744287Z"
    },
    "scrolled": false
   },
   "outputs": [
    {
     "data": {
      "image/png": "[encoded data removed]",
      "text/plain": [
       "<Figure size 432x288 with 1 Axes>"
      ]
     },
     "metadata": {
      "needs_background": "light"
     },
     "output_type": "display_data"
    }
   ],
   "source": [
    "col = 'availableMoney'\n",
    "df[col].hist();"
   ]
  },
  {
   "cell_type": "code",
   "execution_count": 27,
   "id": "aa5cc62f",
   "metadata": {
    "ExecuteTime": {
     "end_time": "2022-11-25T04:19:18.146829Z",
     "start_time": "2022-11-25T04:19:17.934831Z"
    },
    "scrolled": false
   },
   "outputs": [
    {
     "data": {
      "image/png": "[encoded data removed]",
      "text/plain": [
       "<Figure size 432x288 with 1 Axes>"
      ]
     },
     "metadata": {
      "needs_background": "light"
     },
     "output_type": "display_data"
    }
   ],
   "source": [
    "col = 'transactionAmount'\n",
    "df[col].hist();"
   ]
  },
  {
   "cell_type": "code",
   "execution_count": 28,
   "id": "01df74e8",
   "metadata": {
    "ExecuteTime": {
     "end_time": "2022-11-25T04:19:18.551733Z",
     "start_time": "2022-11-25T04:19:18.146829Z"
    },
    "scrolled": false
   },
   "outputs": [
    {
     "data": {
      "image/png": "[encoded data removed]",
      "text/plain": [
       "<Figure size 432x288 with 1 Axes>"
      ]
     },
     "metadata": {
      "needs_background": "light"
     },
     "output_type": "display_data"
    }
   ],
   "source": [
    "# remove extrem values by quantile 0.98\n",
    "col = 'transactionAmount'\n",
    "df = df.loc[df[col] <= df[col].quantile(q=0.98)]\n",
    "df[col].hist();"
   ]
  },
  {
   "cell_type": "code",
   "execution_count": 29,
   "id": "1e6ce5b0",
   "metadata": {
    "ExecuteTime": {
     "end_time": "2022-11-25T04:19:18.748024Z",
     "start_time": "2022-11-25T04:19:18.551733Z"
    }
   },
   "outputs": [
    {
     "data": {
      "image/png": "[encoded data removed]",
      "text/plain": [
       "<Figure size 432x288 with 1 Axes>"
      ]
     },
     "metadata": {
      "needs_background": "light"
     },
     "output_type": "display_data"
    }
   ],
   "source": [
    "col = 'currentBalance'\n",
    "df[col].hist();"
   ]
  },
  {
   "cell_type": "code",
   "execution_count": 30,
   "id": "1bf97723",
   "metadata": {
    "ExecuteTime": {
     "end_time": "2022-11-25T04:19:19.161346Z",
     "start_time": "2022-11-25T04:19:18.748024Z"
    }
   },
   "outputs": [
    {
     "data": {
      "image/png": "[encoded data removed]",
      "text/plain": [
       "<Figure size 432x288 with 1 Axes>"
      ]
     },
     "metadata": {
      "needs_background": "light"
     },
     "output_type": "display_data"
    }
   ],
   "source": [
    "# remove extrem values by quantile 0.98\n",
    "col = 'currentBalance'\n",
    "df = df.loc[df[col] <= df[col].quantile(q=0.98)]\n",
    "df[col].hist();"
   ]
  },
  {
   "cell_type": "code",
   "execution_count": 31,
   "id": "27f7dfdf",
   "metadata": {
    "ExecuteTime": {
     "end_time": "2022-11-25T04:19:19.192541Z",
     "start_time": "2022-11-25T04:19:19.161346Z"
    }
   },
   "outputs": [
    {
     "data": {
      "text/plain": [
       "False    411941\n",
       "True     333731\n",
       "Name: cardPresent, dtype: int64"
      ]
     },
     "execution_count": 31,
     "metadata": {},
     "output_type": "execute_result"
    }
   ],
   "source": [
    "# check data distribution for bool columns\n",
    "col = 'cardPresent'\n",
    "df[col].value_counts()"
   ]
  },
  {
   "cell_type": "code",
   "execution_count": 32,
   "id": "e286111d",
   "metadata": {
    "ExecuteTime": {
     "end_time": "2022-11-25T04:19:19.223794Z",
     "start_time": "2022-11-25T04:19:19.192541Z"
    }
   },
   "outputs": [
    {
     "data": {
      "text/plain": [
       "False    744697\n",
       "True        975\n",
       "Name: expirationDateKeyInMatch, dtype: int64"
      ]
     },
     "execution_count": 32,
     "metadata": {},
     "output_type": "execute_result"
    }
   ],
   "source": [
    "col = 'expirationDateKeyInMatch'\n",
    "df[col].value_counts()"
   ]
  },
  {
   "cell_type": "code",
   "execution_count": 33,
   "id": "7077a49e",
   "metadata": {
    "ExecuteTime": {
     "end_time": "2022-11-25T04:19:19.255060Z",
     "start_time": "2022-11-25T04:19:19.223794Z"
    }
   },
   "outputs": [
    {
     "data": {
      "text/plain": [
       "True     739003\n",
       "False      6669\n",
       "Name: correctedCVV, dtype: int64"
      ]
     },
     "execution_count": 33,
     "metadata": {},
     "output_type": "execute_result"
    }
   ],
   "source": [
    "col = 'correctedCVV'\n",
    "df[col].value_counts()"
   ]
  },
  {
   "cell_type": "markdown",
   "id": "b5219c1a",
   "metadata": {},
   "source": [
    "### Training Model\n",
    "everything looks ok, build abt for model training"
   ]
  },
  {
   "cell_type": "code",
   "execution_count": 34,
   "id": "1a1c85b7",
   "metadata": {
    "ExecuteTime": {
     "end_time": "2022-11-25T04:19:49.340950Z",
     "start_time": "2022-11-25T04:19:49.325362Z"
    }
   },
   "outputs": [
    {
     "data": {
      "text/plain": [
       "(745672, 21)"
      ]
     },
     "execution_count": 34,
     "metadata": {},
     "output_type": "execute_result"
    }
   ],
   "source": [
    "# check dataframe shape\n",
    "df.shape"
   ]
  },
  {
   "cell_type": "code",
   "execution_count": 35,
   "id": "b458ad43",
   "metadata": {
    "ExecuteTime": {
     "end_time": "2022-11-25T04:19:50.590958Z",
     "start_time": "2022-11-25T04:19:49.872238Z"
    }
   },
   "outputs": [],
   "source": [
    "# generate dummies features\n",
    "abt = pd.get_dummies(df)"
   ]
  },
  {
   "cell_type": "code",
   "execution_count": 36,
   "id": "ebc31593",
   "metadata": {
    "ExecuteTime": {
     "end_time": "2022-11-25T04:19:50.856575Z",
     "start_time": "2022-11-25T04:19:50.778487Z"
    }
   },
   "outputs": [
    {
     "name": "stdout",
     "output_type": "stream",
     "text": [
      "(745672, 88)\n"
     ]
    },
    {
     "data": {
      "text/html": [
       "<div>\n",
       "<style scoped>\n",
       "    .dataframe tbody tr th:only-of-type {\n",
       "        vertical-align: middle;\n",
       "    }\n",
       "\n",
       "    .dataframe tbody tr th {\n",
       "        vertical-align: top;\n",
       "    }\n",
       "\n",
       "    .dataframe thead th {\n",
       "        text-align: right;\n",
       "    }\n",
       "</style>\n",
       "<table border=\"1\" class=\"dataframe\">\n",
       "  <thead>\n",
       "    <tr style=\"text-align: right;\">\n",
       "      <th></th>\n",
       "      <th>creditLimit</th>\n",
       "      <th>availableMoney</th>\n",
       "      <th>transactionAmount</th>\n",
       "      <th>currentBalance</th>\n",
       "      <th>cardPresent</th>\n",
       "      <th>expirationDateKeyInMatch</th>\n",
       "      <th>isFraud</th>\n",
       "      <th>correctedCVV</th>\n",
       "      <th>transactionDays</th>\n",
       "      <th>currentExpDays</th>\n",
       "      <th>addressChangeDays</th>\n",
       "      <th>transactionDOW</th>\n",
       "      <th>transactionWeek</th>\n",
       "      <th>transactionHour</th>\n",
       "      <th>merchantName_34th BBQ</th>\n",
       "      <th>merchantName_AMC</th>\n",
       "      <th>merchantName_American Airlines</th>\n",
       "      <th>merchantName_Blue Mountain Online Services</th>\n",
       "      <th>merchantName_Blue Mountain eCards</th>\n",
       "      <th>merchantName_Delta Airlines</th>\n",
       "      <th>merchantName_Domino's Pizza</th>\n",
       "      <th>merchantName_EZ Putt Putt</th>\n",
       "      <th>merchantName_Franks Pub</th>\n",
       "      <th>merchantName_Fresh Flowers</th>\n",
       "      <th>merchantName_Fresh Online Services</th>\n",
       "      <th>merchantName_Fresh eCards</th>\n",
       "      <th>merchantName_In-N-Out</th>\n",
       "      <th>merchantName_KFC</th>\n",
       "      <th>merchantName_Lyft</th>\n",
       "      <th>merchantName_Mobile eCards</th>\n",
       "      <th>merchantName_Next Day Online Services</th>\n",
       "      <th>merchantName_Next Day eCards</th>\n",
       "      <th>merchantName_Ray's Fries</th>\n",
       "      <th>merchantName_Regal Cinemas</th>\n",
       "      <th>merchantName_Rodeway Inn</th>\n",
       "      <th>merchantName_South Steakhouse</th>\n",
       "      <th>merchantName_Uber</th>\n",
       "      <th>merchantName_alibaba.com</th>\n",
       "      <th>merchantName_amazon.com</th>\n",
       "      <th>merchantName_apple.com</th>\n",
       "      <th>merchantName_cheapfast.com</th>\n",
       "      <th>merchantName_discount.com</th>\n",
       "      <th>merchantName_ebay.com</th>\n",
       "      <th>merchantName_gap.com</th>\n",
       "      <th>merchantName_oldnavy.com</th>\n",
       "      <th>merchantName_others</th>\n",
       "      <th>merchantName_sears.com</th>\n",
       "      <th>merchantName_staples.com</th>\n",
       "      <th>merchantName_target.com</th>\n",
       "      <th>merchantName_walmart.com</th>\n",
       "      <th>acqCountry_CAN</th>\n",
       "      <th>acqCountry_MEX</th>\n",
       "      <th>acqCountry_PR</th>\n",
       "      <th>acqCountry_US</th>\n",
       "      <th>merchantCountryCode_CAN</th>\n",
       "      <th>merchantCountryCode_MEX</th>\n",
       "      <th>merchantCountryCode_PR</th>\n",
       "      <th>merchantCountryCode_US</th>\n",
       "      <th>posEntryMode_02</th>\n",
       "      <th>posEntryMode_05</th>\n",
       "      <th>posEntryMode_09</th>\n",
       "      <th>posEntryMode_80</th>\n",
       "      <th>posEntryMode_90</th>\n",
       "      <th>posConditionCode_01</th>\n",
       "      <th>posConditionCode_08</th>\n",
       "      <th>posConditionCode_99</th>\n",
       "      <th>merchantCategoryCode_airline</th>\n",
       "      <th>merchantCategoryCode_auto</th>\n",
       "      <th>merchantCategoryCode_cable/phone</th>\n",
       "      <th>merchantCategoryCode_entertainment</th>\n",
       "      <th>merchantCategoryCode_fastfood</th>\n",
       "      <th>merchantCategoryCode_food</th>\n",
       "      <th>merchantCategoryCode_food_delivery</th>\n",
       "      <th>merchantCategoryCode_fuel</th>\n",
       "      <th>merchantCategoryCode_furniture</th>\n",
       "      <th>merchantCategoryCode_gym</th>\n",
       "      <th>merchantCategoryCode_health</th>\n",
       "      <th>merchantCategoryCode_hotels</th>\n",
       "      <th>merchantCategoryCode_mobileapps</th>\n",
       "      <th>merchantCategoryCode_online_gifts</th>\n",
       "      <th>merchantCategoryCode_online_retail</th>\n",
       "      <th>merchantCategoryCode_online_subscriptions</th>\n",
       "      <th>merchantCategoryCode_personal care</th>\n",
       "      <th>merchantCategoryCode_rideshare</th>\n",
       "      <th>merchantCategoryCode_subscriptions</th>\n",
       "      <th>transactionType_ADDRESS_VERIFICATION</th>\n",
       "      <th>transactionType_PURCHASE</th>\n",
       "      <th>transactionType_REVERSAL</th>\n",
       "    </tr>\n",
       "  </thead>\n",
       "  <tbody>\n",
       "    <tr>\n",
       "      <th>0</th>\n",
       "      <td>5000.0</td>\n",
       "      <td>5000.0</td>\n",
       "      <td>98.55</td>\n",
       "      <td>0.0</td>\n",
       "      <td>False</td>\n",
       "      <td>False</td>\n",
       "      <td>False</td>\n",
       "      <td>True</td>\n",
       "      <td>518</td>\n",
       "      <td>3001</td>\n",
       "      <td>0</td>\n",
       "      <td>5</td>\n",
       "      <td>32</td>\n",
       "      <td>14</td>\n",
       "      <td>0</td>\n",
       "      <td>0</td>\n",
       "      <td>0</td>\n",
       "      <td>0</td>\n",
       "      <td>0</td>\n",
       "      <td>0</td>\n",
       "      <td>0</td>\n",
       "      <td>0</td>\n",
       "      <td>0</td>\n",
       "      <td>0</td>\n",
       "      <td>0</td>\n",
       "      <td>0</td>\n",
       "      <td>0</td>\n",
       "      <td>0</td>\n",
       "      <td>0</td>\n",
       "      <td>0</td>\n",
       "      <td>0</td>\n",
       "      <td>0</td>\n",
       "      <td>0</td>\n",
       "      <td>0</td>\n",
       "      <td>0</td>\n",
       "      <td>0</td>\n",
       "      <td>1</td>\n",
       "      <td>0</td>\n",
       "      <td>0</td>\n",
       "      <td>0</td>\n",
       "      <td>0</td>\n",
       "      <td>0</td>\n",
       "      <td>0</td>\n",
       "      <td>0</td>\n",
       "      <td>0</td>\n",
       "      <td>0</td>\n",
       "      <td>0</td>\n",
       "      <td>0</td>\n",
       "      <td>0</td>\n",
       "      <td>0</td>\n",
       "      <td>0</td>\n",
       "      <td>0</td>\n",
       "      <td>0</td>\n",
       "      <td>1</td>\n",
       "      <td>0</td>\n",
       "      <td>0</td>\n",
       "      <td>0</td>\n",
       "      <td>1</td>\n",
       "      <td>1</td>\n",
       "      <td>0</td>\n",
       "      <td>0</td>\n",
       "      <td>0</td>\n",
       "      <td>0</td>\n",
       "      <td>1</td>\n",
       "      <td>0</td>\n",
       "      <td>0</td>\n",
       "      <td>0</td>\n",
       "      <td>0</td>\n",
       "      <td>0</td>\n",
       "      <td>0</td>\n",
       "      <td>0</td>\n",
       "      <td>0</td>\n",
       "      <td>0</td>\n",
       "      <td>0</td>\n",
       "      <td>0</td>\n",
       "      <td>0</td>\n",
       "      <td>0</td>\n",
       "      <td>0</td>\n",
       "      <td>0</td>\n",
       "      <td>0</td>\n",
       "      <td>0</td>\n",
       "      <td>0</td>\n",
       "      <td>0</td>\n",
       "      <td>1</td>\n",
       "      <td>0</td>\n",
       "      <td>0</td>\n",
       "      <td>1</td>\n",
       "      <td>0</td>\n",
       "    </tr>\n",
       "    <tr>\n",
       "      <th>1</th>\n",
       "      <td>5000.0</td>\n",
       "      <td>5000.0</td>\n",
       "      <td>74.51</td>\n",
       "      <td>0.0</td>\n",
       "      <td>True</td>\n",
       "      <td>False</td>\n",
       "      <td>False</td>\n",
       "      <td>True</td>\n",
       "      <td>577</td>\n",
       "      <td>3246</td>\n",
       "      <td>0</td>\n",
       "      <td>1</td>\n",
       "      <td>41</td>\n",
       "      <td>5</td>\n",
       "      <td>0</td>\n",
       "      <td>1</td>\n",
       "      <td>0</td>\n",
       "      <td>0</td>\n",
       "      <td>0</td>\n",
       "      <td>0</td>\n",
       "      <td>0</td>\n",
       "      <td>0</td>\n",
       "      <td>0</td>\n",
       "      <td>0</td>\n",
       "      <td>0</td>\n",
       "      <td>0</td>\n",
       "      <td>0</td>\n",
       "      <td>0</td>\n",
       "      <td>0</td>\n",
       "      <td>0</td>\n",
       "      <td>0</td>\n",
       "      <td>0</td>\n",
       "      <td>0</td>\n",
       "      <td>0</td>\n",
       "      <td>0</td>\n",
       "      <td>0</td>\n",
       "      <td>0</td>\n",
       "      <td>0</td>\n",
       "      <td>0</td>\n",
       "      <td>0</td>\n",
       "      <td>0</td>\n",
       "      <td>0</td>\n",
       "      <td>0</td>\n",
       "      <td>0</td>\n",
       "      <td>0</td>\n",
       "      <td>0</td>\n",
       "      <td>0</td>\n",
       "      <td>0</td>\n",
       "      <td>0</td>\n",
       "      <td>0</td>\n",
       "      <td>0</td>\n",
       "      <td>0</td>\n",
       "      <td>0</td>\n",
       "      <td>1</td>\n",
       "      <td>0</td>\n",
       "      <td>0</td>\n",
       "      <td>0</td>\n",
       "      <td>1</td>\n",
       "      <td>0</td>\n",
       "      <td>0</td>\n",
       "      <td>1</td>\n",
       "      <td>0</td>\n",
       "      <td>0</td>\n",
       "      <td>1</td>\n",
       "      <td>0</td>\n",
       "      <td>0</td>\n",
       "      <td>0</td>\n",
       "      <td>0</td>\n",
       "      <td>0</td>\n",
       "      <td>1</td>\n",
       "      <td>0</td>\n",
       "      <td>0</td>\n",
       "      <td>0</td>\n",
       "      <td>0</td>\n",
       "      <td>0</td>\n",
       "      <td>0</td>\n",
       "      <td>0</td>\n",
       "      <td>0</td>\n",
       "      <td>0</td>\n",
       "      <td>0</td>\n",
       "      <td>0</td>\n",
       "      <td>0</td>\n",
       "      <td>0</td>\n",
       "      <td>0</td>\n",
       "      <td>0</td>\n",
       "      <td>0</td>\n",
       "      <td>1</td>\n",
       "      <td>0</td>\n",
       "    </tr>\n",
       "    <tr>\n",
       "      <th>2</th>\n",
       "      <td>5000.0</td>\n",
       "      <td>5000.0</td>\n",
       "      <td>7.47</td>\n",
       "      <td>0.0</td>\n",
       "      <td>False</td>\n",
       "      <td>False</td>\n",
       "      <td>False</td>\n",
       "      <td>True</td>\n",
       "      <td>605</td>\n",
       "      <td>3793</td>\n",
       "      <td>0</td>\n",
       "      <td>1</td>\n",
       "      <td>45</td>\n",
       "      <td>9</td>\n",
       "      <td>0</td>\n",
       "      <td>0</td>\n",
       "      <td>0</td>\n",
       "      <td>0</td>\n",
       "      <td>0</td>\n",
       "      <td>0</td>\n",
       "      <td>0</td>\n",
       "      <td>0</td>\n",
       "      <td>0</td>\n",
       "      <td>0</td>\n",
       "      <td>0</td>\n",
       "      <td>0</td>\n",
       "      <td>0</td>\n",
       "      <td>0</td>\n",
       "      <td>0</td>\n",
       "      <td>0</td>\n",
       "      <td>0</td>\n",
       "      <td>0</td>\n",
       "      <td>0</td>\n",
       "      <td>0</td>\n",
       "      <td>0</td>\n",
       "      <td>0</td>\n",
       "      <td>0</td>\n",
       "      <td>0</td>\n",
       "      <td>0</td>\n",
       "      <td>0</td>\n",
       "      <td>0</td>\n",
       "      <td>0</td>\n",
       "      <td>0</td>\n",
       "      <td>0</td>\n",
       "      <td>0</td>\n",
       "      <td>1</td>\n",
       "      <td>0</td>\n",
       "      <td>0</td>\n",
       "      <td>0</td>\n",
       "      <td>0</td>\n",
       "      <td>0</td>\n",
       "      <td>0</td>\n",
       "      <td>0</td>\n",
       "      <td>1</td>\n",
       "      <td>0</td>\n",
       "      <td>0</td>\n",
       "      <td>0</td>\n",
       "      <td>1</td>\n",
       "      <td>0</td>\n",
       "      <td>0</td>\n",
       "      <td>1</td>\n",
       "      <td>0</td>\n",
       "      <td>0</td>\n",
       "      <td>1</td>\n",
       "      <td>0</td>\n",
       "      <td>0</td>\n",
       "      <td>0</td>\n",
       "      <td>0</td>\n",
       "      <td>0</td>\n",
       "      <td>0</td>\n",
       "      <td>0</td>\n",
       "      <td>0</td>\n",
       "      <td>0</td>\n",
       "      <td>0</td>\n",
       "      <td>0</td>\n",
       "      <td>0</td>\n",
       "      <td>0</td>\n",
       "      <td>0</td>\n",
       "      <td>1</td>\n",
       "      <td>0</td>\n",
       "      <td>0</td>\n",
       "      <td>0</td>\n",
       "      <td>0</td>\n",
       "      <td>0</td>\n",
       "      <td>0</td>\n",
       "      <td>0</td>\n",
       "      <td>1</td>\n",
       "      <td>0</td>\n",
       "    </tr>\n",
       "    <tr>\n",
       "      <th>3</th>\n",
       "      <td>5000.0</td>\n",
       "      <td>5000.0</td>\n",
       "      <td>7.47</td>\n",
       "      <td>0.0</td>\n",
       "      <td>False</td>\n",
       "      <td>False</td>\n",
       "      <td>False</td>\n",
       "      <td>True</td>\n",
       "      <td>637</td>\n",
       "      <td>3793</td>\n",
       "      <td>0</td>\n",
       "      <td>5</td>\n",
       "      <td>49</td>\n",
       "      <td>2</td>\n",
       "      <td>0</td>\n",
       "      <td>0</td>\n",
       "      <td>0</td>\n",
       "      <td>0</td>\n",
       "      <td>0</td>\n",
       "      <td>0</td>\n",
       "      <td>0</td>\n",
       "      <td>0</td>\n",
       "      <td>0</td>\n",
       "      <td>0</td>\n",
       "      <td>0</td>\n",
       "      <td>0</td>\n",
       "      <td>0</td>\n",
       "      <td>0</td>\n",
       "      <td>0</td>\n",
       "      <td>0</td>\n",
       "      <td>0</td>\n",
       "      <td>0</td>\n",
       "      <td>0</td>\n",
       "      <td>0</td>\n",
       "      <td>0</td>\n",
       "      <td>0</td>\n",
       "      <td>0</td>\n",
       "      <td>0</td>\n",
       "      <td>0</td>\n",
       "      <td>0</td>\n",
       "      <td>0</td>\n",
       "      <td>0</td>\n",
       "      <td>0</td>\n",
       "      <td>0</td>\n",
       "      <td>0</td>\n",
       "      <td>1</td>\n",
       "      <td>0</td>\n",
       "      <td>0</td>\n",
       "      <td>0</td>\n",
       "      <td>0</td>\n",
       "      <td>0</td>\n",
       "      <td>0</td>\n",
       "      <td>0</td>\n",
       "      <td>1</td>\n",
       "      <td>0</td>\n",
       "      <td>0</td>\n",
       "      <td>0</td>\n",
       "      <td>1</td>\n",
       "      <td>0</td>\n",
       "      <td>0</td>\n",
       "      <td>1</td>\n",
       "      <td>0</td>\n",
       "      <td>0</td>\n",
       "      <td>1</td>\n",
       "      <td>0</td>\n",
       "      <td>0</td>\n",
       "      <td>0</td>\n",
       "      <td>0</td>\n",
       "      <td>0</td>\n",
       "      <td>0</td>\n",
       "      <td>0</td>\n",
       "      <td>0</td>\n",
       "      <td>0</td>\n",
       "      <td>0</td>\n",
       "      <td>0</td>\n",
       "      <td>0</td>\n",
       "      <td>0</td>\n",
       "      <td>0</td>\n",
       "      <td>1</td>\n",
       "      <td>0</td>\n",
       "      <td>0</td>\n",
       "      <td>0</td>\n",
       "      <td>0</td>\n",
       "      <td>0</td>\n",
       "      <td>0</td>\n",
       "      <td>0</td>\n",
       "      <td>1</td>\n",
       "      <td>0</td>\n",
       "    </tr>\n",
       "    <tr>\n",
       "      <th>4</th>\n",
       "      <td>5000.0</td>\n",
       "      <td>5000.0</td>\n",
       "      <td>71.18</td>\n",
       "      <td>0.0</td>\n",
       "      <td>True</td>\n",
       "      <td>False</td>\n",
       "      <td>False</td>\n",
       "      <td>True</td>\n",
       "      <td>231</td>\n",
       "      <td>5170</td>\n",
       "      <td>0</td>\n",
       "      <td>3</td>\n",
       "      <td>12</td>\n",
       "      <td>21</td>\n",
       "      <td>0</td>\n",
       "      <td>0</td>\n",
       "      <td>0</td>\n",
       "      <td>0</td>\n",
       "      <td>0</td>\n",
       "      <td>0</td>\n",
       "      <td>0</td>\n",
       "      <td>0</td>\n",
       "      <td>0</td>\n",
       "      <td>0</td>\n",
       "      <td>0</td>\n",
       "      <td>0</td>\n",
       "      <td>0</td>\n",
       "      <td>0</td>\n",
       "      <td>0</td>\n",
       "      <td>0</td>\n",
       "      <td>0</td>\n",
       "      <td>0</td>\n",
       "      <td>0</td>\n",
       "      <td>0</td>\n",
       "      <td>0</td>\n",
       "      <td>0</td>\n",
       "      <td>0</td>\n",
       "      <td>0</td>\n",
       "      <td>0</td>\n",
       "      <td>0</td>\n",
       "      <td>0</td>\n",
       "      <td>0</td>\n",
       "      <td>0</td>\n",
       "      <td>0</td>\n",
       "      <td>0</td>\n",
       "      <td>1</td>\n",
       "      <td>0</td>\n",
       "      <td>0</td>\n",
       "      <td>0</td>\n",
       "      <td>0</td>\n",
       "      <td>0</td>\n",
       "      <td>0</td>\n",
       "      <td>0</td>\n",
       "      <td>1</td>\n",
       "      <td>0</td>\n",
       "      <td>0</td>\n",
       "      <td>0</td>\n",
       "      <td>1</td>\n",
       "      <td>1</td>\n",
       "      <td>0</td>\n",
       "      <td>0</td>\n",
       "      <td>0</td>\n",
       "      <td>0</td>\n",
       "      <td>1</td>\n",
       "      <td>0</td>\n",
       "      <td>0</td>\n",
       "      <td>0</td>\n",
       "      <td>0</td>\n",
       "      <td>0</td>\n",
       "      <td>0</td>\n",
       "      <td>1</td>\n",
       "      <td>0</td>\n",
       "      <td>0</td>\n",
       "      <td>0</td>\n",
       "      <td>0</td>\n",
       "      <td>0</td>\n",
       "      <td>0</td>\n",
       "      <td>0</td>\n",
       "      <td>0</td>\n",
       "      <td>0</td>\n",
       "      <td>0</td>\n",
       "      <td>0</td>\n",
       "      <td>0</td>\n",
       "      <td>0</td>\n",
       "      <td>0</td>\n",
       "      <td>0</td>\n",
       "      <td>1</td>\n",
       "      <td>0</td>\n",
       "    </tr>\n",
       "  </tbody>\n",
       "</table>\n",
       "</div>"
      ],
      "text/plain": [
       "   creditLimit  availableMoney  transactionAmount  currentBalance  \\\n",
       "0       5000.0          5000.0              98.55             0.0   \n",
       "1       5000.0          5000.0              74.51             0.0   \n",
       "2       5000.0          5000.0               7.47             0.0   \n",
       "3       5000.0          5000.0               7.47             0.0   \n",
       "4       5000.0          5000.0              71.18             0.0   \n",
       "\n",
       "   cardPresent  expirationDateKeyInMatch  isFraud  correctedCVV  \\\n",
       "0        False                     False    False          True   \n",
       "1         True                     False    False          True   \n",
       "2        False                     False    False          True   \n",
       "3        False                     False    False          True   \n",
       "4         True                     False    False          True   \n",
       "\n",
       "   transactionDays  currentExpDays  addressChangeDays  transactionDOW  \\\n",
       "0              518            3001                  0               5   \n",
       "1              577            3246                  0               1   \n",
       "2              605            3793                  0               1   \n",
       "3              637            3793                  0               5   \n",
       "4              231            5170                  0               3   \n",
       "\n",
       "   transactionWeek  transactionHour  merchantName_34th BBQ  merchantName_AMC  \\\n",
       "0               32               14                      0                 0   \n",
       "1               41                5                      0                 1   \n",
       "2               45                9                      0                 0   \n",
       "3               49                2                      0                 0   \n",
       "4               12               21                      0                 0   \n",
       "\n",
       "   merchantName_American Airlines  merchantName_Blue Mountain Online Services  \\\n",
       "0                               0                                           0   \n",
       "1                               0                                           0   \n",
       "2                               0                                           0   \n",
       "3                               0                                           0   \n",
       "4                               0                                           0   \n",
       "\n",
       "   merchantName_Blue Mountain eCards  merchantName_Delta Airlines  \\\n",
       "0                                  0                            0   \n",
       "1                                  0                            0   \n",
       "2                                  0                            0   \n",
       "3                                  0                            0   \n",
       "4                                  0                            0   \n",
       "\n",
       "   merchantName_Domino's Pizza  merchantName_EZ Putt Putt  \\\n",
       "0                            0                          0   \n",
       "1                            0                          0   \n",
       "2                            0                          0   \n",
       "3                            0                          0   \n",
       "4                            0                          0   \n",
       "\n",
       "   merchantName_Franks Pub  merchantName_Fresh Flowers  \\\n",
       "0                        0                           0   \n",
       "1                        0                           0   \n",
       "2                        0                           0   \n",
       "3                        0                           0   \n",
       "4                        0                           0   \n",
       "\n",
       "   merchantName_Fresh Online Services  merchantName_Fresh eCards  \\\n",
       "0                                   0                          0   \n",
       "1                                   0                          0   \n",
       "2                                   0                          0   \n",
       "3                                   0                          0   \n",
       "4                                   0                          0   \n",
       "\n",
       "   merchantName_In-N-Out  merchantName_KFC  merchantName_Lyft  \\\n",
       "0                      0                 0                  0   \n",
       "1                      0                 0                  0   \n",
       "2                      0                 0                  0   \n",
       "3                      0                 0                  0   \n",
       "4                      0                 0                  0   \n",
       "\n",
       "   merchantName_Mobile eCards  merchantName_Next Day Online Services  \\\n",
       "0                           0                                      0   \n",
       "1                           0                                      0   \n",
       "2                           0                                      0   \n",
       "3                           0                                      0   \n",
       "4                           0                                      0   \n",
       "\n",
       "   merchantName_Next Day eCards  merchantName_Ray's Fries  \\\n",
       "0                             0                         0   \n",
       "1                             0                         0   \n",
       "2                             0                         0   \n",
       "3                             0                         0   \n",
       "4                             0                         0   \n",
       "\n",
       "   merchantName_Regal Cinemas  merchantName_Rodeway Inn  \\\n",
       "0                           0                         0   \n",
       "1                           0                         0   \n",
       "2                           0                         0   \n",
       "3                           0                         0   \n",
       "4                           0                         0   \n",
       "\n",
       "   merchantName_South Steakhouse  merchantName_Uber  merchantName_alibaba.com  \\\n",
       "0                              0                  1                         0   \n",
       "1                              0                  0                         0   \n",
       "2                              0                  0                         0   \n",
       "3                              0                  0                         0   \n",
       "4                              0                  0                         0   \n",
       "\n",
       "   merchantName_amazon.com  merchantName_apple.com  \\\n",
       "0                        0                       0   \n",
       "1                        0                       0   \n",
       "2                        0                       0   \n",
       "3                        0                       0   \n",
       "4                        0                       0   \n",
       "\n",
       "   merchantName_cheapfast.com  merchantName_discount.com  \\\n",
       "0                           0                          0   \n",
       "1                           0                          0   \n",
       "2                           0                          0   \n",
       "3                           0                          0   \n",
       "4                           0                          0   \n",
       "\n",
       "   merchantName_ebay.com  merchantName_gap.com  merchantName_oldnavy.com  \\\n",
       "0                      0                     0                         0   \n",
       "1                      0                     0                         0   \n",
       "2                      0                     0                         0   \n",
       "3                      0                     0                         0   \n",
       "4                      0                     0                         0   \n",
       "\n",
       "   merchantName_others  merchantName_sears.com  merchantName_staples.com  \\\n",
       "0                    0                       0                         0   \n",
       "1                    0                       0                         0   \n",
       "2                    1                       0                         0   \n",
       "3                    1                       0                         0   \n",
       "4                    1                       0                         0   \n",
       "\n",
       "   merchantName_target.com  merchantName_walmart.com  acqCountry_CAN  \\\n",
       "0                        0                         0               0   \n",
       "1                        0                         0               0   \n",
       "2                        0                         0               0   \n",
       "3                        0                         0               0   \n",
       "4                        0                         0               0   \n",
       "\n",
       "   acqCountry_MEX  acqCountry_PR  acqCountry_US  merchantCountryCode_CAN  \\\n",
       "0               0              0              1                        0   \n",
       "1               0              0              1                        0   \n",
       "2               0              0              1                        0   \n",
       "3               0              0              1                        0   \n",
       "4               0              0              1                        0   \n",
       "\n",
       "   merchantCountryCode_MEX  merchantCountryCode_PR  merchantCountryCode_US  \\\n",
       "0                        0                       0                       1   \n",
       "1                        0                       0                       1   \n",
       "2                        0                       0                       1   \n",
       "3                        0                       0                       1   \n",
       "4                        0                       0                       1   \n",
       "\n",
       "   posEntryMode_02  posEntryMode_05  posEntryMode_09  posEntryMode_80  \\\n",
       "0                1                0                0                0   \n",
       "1                0                0                1                0   \n",
       "2                0                0                1                0   \n",
       "3                0                0                1                0   \n",
       "4                1                0                0                0   \n",
       "\n",
       "   posEntryMode_90  posConditionCode_01  posConditionCode_08  \\\n",
       "0                0                    1                    0   \n",
       "1                0                    1                    0   \n",
       "2                0                    1                    0   \n",
       "3                0                    1                    0   \n",
       "4                0                    1                    0   \n",
       "\n",
       "   posConditionCode_99  merchantCategoryCode_airline  \\\n",
       "0                    0                             0   \n",
       "1                    0                             0   \n",
       "2                    0                             0   \n",
       "3                    0                             0   \n",
       "4                    0                             0   \n",
       "\n",
       "   merchantCategoryCode_auto  merchantCategoryCode_cable/phone  \\\n",
       "0                          0                                 0   \n",
       "1                          0                                 0   \n",
       "2                          0                                 0   \n",
       "3                          0                                 0   \n",
       "4                          0                                 0   \n",
       "\n",
       "   merchantCategoryCode_entertainment  merchantCategoryCode_fastfood  \\\n",
       "0                                   0                              0   \n",
       "1                                   1                              0   \n",
       "2                                   0                              0   \n",
       "3                                   0                              0   \n",
       "4                                   0                              1   \n",
       "\n",
       "   merchantCategoryCode_food  merchantCategoryCode_food_delivery  \\\n",
       "0                          0                                   0   \n",
       "1                          0                                   0   \n",
       "2                          0                                   0   \n",
       "3                          0                                   0   \n",
       "4                          0                                   0   \n",
       "\n",
       "   merchantCategoryCode_fuel  merchantCategoryCode_furniture  \\\n",
       "0                          0                               0   \n",
       "1                          0                               0   \n",
       "2                          0                               0   \n",
       "3                          0                               0   \n",
       "4                          0                               0   \n",
       "\n",
       "   merchantCategoryCode_gym  merchantCategoryCode_health  \\\n",
       "0                         0                            0   \n",
       "1                         0                            0   \n",
       "2                         0                            0   \n",
       "3                         0                            0   \n",
       "4                         0                            0   \n",
       "\n",
       "   merchantCategoryCode_hotels  merchantCategoryCode_mobileapps  \\\n",
       "0                            0                                0   \n",
       "1                            0                                0   \n",
       "2                            0                                1   \n",
       "3                            0                                1   \n",
       "4                            0                                0   \n",
       "\n",
       "   merchantCategoryCode_online_gifts  merchantCategoryCode_online_retail  \\\n",
       "0                                  0                                   0   \n",
       "1                                  0                                   0   \n",
       "2                                  0                                   0   \n",
       "3                                  0                                   0   \n",
       "4                                  0                                   0   \n",
       "\n",
       "   merchantCategoryCode_online_subscriptions  \\\n",
       "0                                          0   \n",
       "1                                          0   \n",
       "2                                          0   \n",
       "3                                          0   \n",
       "4                                          0   \n",
       "\n",
       "   merchantCategoryCode_personal care  merchantCategoryCode_rideshare  \\\n",
       "0                                   0                               1   \n",
       "1                                   0                               0   \n",
       "2                                   0                               0   \n",
       "3                                   0                               0   \n",
       "4                                   0                               0   \n",
       "\n",
       "   merchantCategoryCode_subscriptions  transactionType_ADDRESS_VERIFICATION  \\\n",
       "0                                   0                                     0   \n",
       "1                                   0                                     0   \n",
       "2                                   0                                     0   \n",
       "3                                   0                                     0   \n",
       "4                                   0                                     0   \n",
       "\n",
       "   transactionType_PURCHASE  transactionType_REVERSAL  \n",
       "0                         1                         0  \n",
       "1                         1                         0  \n",
       "2                         1                         0  \n",
       "3                         1                         0  \n",
       "4                         1                         0  "
      ]
     },
     "execution_count": 36,
     "metadata": {},
     "output_type": "execute_result"
    }
   ],
   "source": [
    "# quick check\n",
    "print(abt.shape)\n",
    "abt.head()"
   ]
  },
  {
   "cell_type": "code",
   "execution_count": 37,
   "id": "8204548e",
   "metadata": {
    "ExecuteTime": {
     "end_time": "2022-11-25T04:25:22.613043Z",
     "start_time": "2022-11-25T04:19:56.231612Z"
    }
   },
   "outputs": [
    {
     "name": "stdout",
     "output_type": "stream",
     "text": [
      "1/1\n",
      "F1 Score of CV: 0.698 (± 0.011)\n",
      "F1 Score for test:  0.7010989010989012\n",
      "1/2\n",
      "F1 Score of CV: 0.506 (± 0.015)\n",
      "F1 Score for test:  0.5024848150193265\n",
      "1/3\n",
      "F1 Score of CV: 0.358 (± 0.019)\n",
      "F1 Score for test:  0.3584229390681004\n",
      "1/4\n",
      "F1 Score of CV: 0.252 (± 0.017)\n",
      "F1 Score for test:  0.24858757062146894\n",
      "1/5\n",
      "F1 Score of CV: 0.179 (± 0.020)\n",
      "F1 Score for test:  0.16724738675958187\n",
      "1/6\n",
      "F1 Score of CV: 0.129 (± 0.021)\n",
      "F1 Score for test:  0.1337579617834395\n",
      "1/7\n",
      "F1 Score of CV: 0.098 (± 0.011)\n",
      "F1 Score for test:  0.1093945720250522\n",
      "1/8\n",
      "F1 Score of CV: 0.073 (± 0.010)\n",
      "F1 Score for test:  0.0794816414686825\n",
      "1/9\n",
      "F1 Score of CV: 0.060 (± 0.007)\n",
      "F1 Score for test:  0.0614596670934699\n"
     ]
    }
   ],
   "source": [
    "# use a pipeline with SandardScaler and LogisticRegression for classification\n",
    "# undersample not Fraud transactions by the ratio between fraud transactoins/not fraud transactions from 1/1 to 1/9.\n",
    "# use f1 score as metric\n",
    "# output score for CV and score for the test data set\n",
    "\n",
    "lm_res = {}\n",
    "for not_fraud_ratio in range(1, 10):\n",
    "    print(f'1/{not_fraud_ratio}')\n",
    "    rus = RandomUnderSampler(\n",
    "        sampling_strategy=1/not_fraud_ratio, random_state=4122)\n",
    "    X_res, y_res = rus.fit_resample(abt.drop(columns=['isFraud']), abt.isFraud)\n",
    "\n",
    "    # Load the data\n",
    "    X, y = X_res, y_res\n",
    "\n",
    "    X_train, X_test, y_train, y_test = model_selection.train_test_split(\n",
    "        X, y, test_size=0.20, random_state=4122)\n",
    "\n",
    "    # Define the steps of the model\n",
    "    model = pipeline.Pipeline([\n",
    "        ('scale', preprocessing.StandardScaler()),\n",
    "        ('lin_reg', linear_model.LogisticRegression(solver='liblinear'))\n",
    "    ])\n",
    "\n",
    "    model.fit(X, y)\n",
    "\n",
    "    # Define a determistic cross-validation procedure\n",
    "    cv = model_selection.KFold(n_splits=10, shuffle=True, random_state=4122)\n",
    "\n",
    "    # Compute the F1 values\n",
    "    scorer = metrics.make_scorer(metrics.f1_score)\n",
    "    scores = model_selection.cross_val_score(\n",
    "        model, X_train, y_train, scoring=scorer, cv=cv)\n",
    "\n",
    "    # Display the average score and it's standard deviation\n",
    "    print(f'F1 Score of CV: {scores.mean():.3f} (± {scores.std():.3f})')\n",
    "    lm_res.update({not_fraud_ratio: model})\n",
    "\n",
    "    # predict test data\n",
    "    preds = model.predict(X_test)\n",
    "\n",
    "    print(\"F1 Score for test: \", metrics.f1_score(y_test, preds))"
   ]
  },
  {
   "cell_type": "markdown",
   "id": "e60f3830",
   "metadata": {},
   "source": [
    "With the increase of not_fraud_ratio, the average f1-score is decreasing and the std of CV is creasing, indicating potential overfitting. I would choose not_fraud_ratio = 3 for adversarial validation. The reason is in **Conclusion 1** below based on the business analysis."
   ]
  },
  {
   "cell_type": "markdown",
   "id": "af7be80c",
   "metadata": {},
   "source": [
    "Adversarial Validation when not_fraud_ratio = 3"
   ]
  },
  {
   "cell_type": "code",
   "execution_count": 39,
   "id": "39cb0299",
   "metadata": {
    "ExecuteTime": {
     "end_time": "2022-11-25T04:26:44.631428Z",
     "start_time": "2022-11-25T04:26:41.834531Z"
    }
   },
   "outputs": [
    {
     "data": {
      "image/png": "[encoded data removed]",
      "text/plain": [
       "<Figure size 720x720 with 1 Axes>"
      ]
     },
     "metadata": {
      "needs_background": "light"
     },
     "output_type": "display_data"
    }
   ],
   "source": [
    "not_fraud_ratio = 3\n",
    "rus = RandomUnderSampler(\n",
    "    sampling_strategy=1/not_fraud_ratio, random_state=4122)\n",
    "X_res, y_res = rus.fit_resample(abt.drop(columns=['isFraud']), abt.isFraud)\n",
    "\n",
    "# Load the data\n",
    "X, y = X_res, y_res\n",
    "\n",
    "X_train, X_test, y_train, y_test = model_selection.train_test_split(\n",
    "    X, y, test_size=0.20, random_state=0)\n",
    "\n",
    "X_train['label'] = 1\n",
    "X_test['label'] = 0\n",
    "\n",
    "\n",
    "tmp_abt = pd.concat([X_train, X_test], ignore_index=True, sort=False)\n",
    "X, y = tmp_abt.drop(columns=['label']), tmp_abt.label\n",
    "X_train, X_test, y_train, y_test = model_selection.train_test_split(\n",
    "    X, y, test_size=0.20, random_state=4122)\n",
    "\n",
    "\n",
    "# Define the steps of the model\n",
    "model = pipeline.Pipeline([\n",
    "    ('scale', preprocessing.StandardScaler()),\n",
    "    ('lin_reg', linear_model.LogisticRegression(solver='liblinear'))\n",
    "])\n",
    "model.fit(X, y)\n",
    "\n",
    "# generate fpr, tpr\n",
    "y_pred_proba = model.predict_proba(X_test)[::, 1]\n",
    "fpr, tpr, _ = metrics.roc_curve(y_test, y_pred_proba)\n",
    "\n",
    "# create ROC curve and calcluate auc\n",
    "auc = metrics.roc_auc_score(y_test, y_pred_proba)\n",
    "\n",
    "plt.figure(figsize=(10, 10))\n",
    "plt.plot(np.linspace(0, 1, 20), np.linspace(0, 1, 20), linestyle='--')\n",
    "plt.plot(fpr, tpr, label=f'AUC={auc:.3f}')\n",
    "\n",
    "plt.title('ROC Curve for Adversarial Validation')\n",
    "plt.xlabel('False Positive Rate')\n",
    "plt.ylabel('True Positive Rate')\n",
    "plt.xlim([-0.01, 1])\n",
    "plt.ylim([-0.01, 1])\n",
    "plt.legend()\n",
    "plt.grid()\n",
    "plt.show()"
   ]
  },
  {
   "cell_type": "markdown",
   "id": "0e6dab41",
   "metadata": {},
   "source": [
    "The model cannot tell the difference between Train and Test data sets, which means the two data sets are identically distributed."
   ]
  },
  {
   "cell_type": "markdown",
   "id": "c7150a8f",
   "metadata": {
    "ExecuteTime": {
     "end_time": "2022-11-17T05:50:33.699713Z",
     "start_time": "2022-11-17T05:50:33.684094Z"
    }
   },
   "source": [
    "### Business Insight\n",
    "\n",
    "revise our business purpose as below.\n",
    "\n",
    "1. <span style=\"color:red\">One business purpose should reduce loss to avoid fraud transactions</span>, the percentage of **the amount of predicted fraud transaction <span style=\"color:red\">(True Positive)</span>/the amount of fraud transaction** should be high.\n",
    "2. <span style=\"color:red\">The other business purpose should be less effect on the non-fraud real transactions</span>, the percentage of **the transactions of predicted fraud transactions <span style=\"color:red\">(False Positive)</span>/real transactions** should be low.\n"
   ]
  },
  {
   "cell_type": "code",
   "execution_count": 40,
   "id": "a77f5f4f",
   "metadata": {
    "ExecuteTime": {
     "end_time": "2022-11-25T04:27:14.756414Z",
     "start_time": "2022-11-25T04:26:50.459582Z"
    }
   },
   "outputs": [
    {
     "name": "stdout",
     "output_type": "stream",
     "text": [
      "1\n",
      "F1 Score for the whole dataset:  0.059297907417262416\n",
      "The Amount of Predicted Fraud Transactions is 1,784,931.7000000002,\n",
      "which is 83.71% of total fraud transaction amount.\n",
      "Wrong predicted transaction pct in Not Fraud Transactions is 33.50%.\n",
      "2\n",
      "F1 Score for the whole dataset:  0.09236361408631902\n",
      "The Amount of Predicted Fraud Transactions is 1,255,400.5,\n",
      "which is 58.88% of total fraud transaction amount.\n",
      "Wrong predicted transaction pct in Not Fraud Transactions is 11.06%.\n",
      "3\n",
      "F1 Score for the whole dataset:  0.11030944364277698\n",
      "The Amount of Predicted Fraud Transactions is 860,303.52,\n",
      "which is 40.35% of total fraud transaction amount.\n",
      "Wrong predicted transaction pct in Not Fraud Transactions is 4.85%.\n",
      "4\n",
      "F1 Score for the whole dataset:  0.11035701884529185\n",
      "The Amount of Predicted Fraud Transactions is 576,386.67,\n",
      "which is 27.03% of total fraud transaction amount.\n",
      "Wrong predicted transaction pct in Not Fraud Transactions is 2.54%.\n",
      "5\n",
      "F1 Score for the whole dataset:  0.10140967252222945\n",
      "The Amount of Predicted Fraud Transactions is 401,206.16000000003,\n",
      "which is 18.82% of total fraud transaction amount.\n",
      "Wrong predicted transaction pct in Not Fraud Transactions is 1.46%.\n",
      "6\n",
      "F1 Score for the whole dataset:  0.08870446216857081\n",
      "The Amount of Predicted Fraud Transactions is 283,375.91,\n",
      "which is 13.29% of total fraud transaction amount.\n",
      "Wrong predicted transaction pct in Not Fraud Transactions is 0.91%.\n",
      "7\n",
      "F1 Score for the whole dataset:  0.07405110394443067\n",
      "The Amount of Predicted Fraud Transactions is 205,803.62,\n",
      "which is 9.65% of total fraud transaction amount.\n",
      "Wrong predicted transaction pct in Not Fraud Transactions is 0.61%.\n",
      "8\n",
      "F1 Score for the whole dataset:  0.06169524202988363\n",
      "The Amount of Predicted Fraud Transactions is 149,752.11,\n",
      "which is 7.02% of total fraud transaction amount.\n",
      "Wrong predicted transaction pct in Not Fraud Transactions is 0.42%.\n",
      "9\n",
      "F1 Score for the whole dataset:  0.05008891523414345\n",
      "The Amount of Predicted Fraud Transactions is 113,330.56,\n",
      "which is 5.32% of total fraud transaction amount.\n",
      "Wrong predicted transaction pct in Not Fraud Transactions is 0.29%.\n"
     ]
    }
   ],
   "source": [
    "# calculate the two percentages using the whole dataset\n",
    "f1s = {}\n",
    "val_res = []\n",
    "for not_fraud_ratio in range(1, 10):\n",
    "    pred_y = lm_res[not_fraud_ratio].predict(abt.drop(columns=['isFraud']))\n",
    "    print(not_fraud_ratio)\n",
    "    f1 = metrics.f1_score(abt.isFraud, pred_y)\n",
    "    print(\"F1 Score for the whole dataset: \", f1)\n",
    "    f1s[not_fraud_ratio] = f1\n",
    "\n",
    "    real_fraud_trasaction_amount = abt.loc[abt.isFraud ==\n",
    "                                           True, 'transactionAmount'].sum()\n",
    "    predit_abt = abt.copy()\n",
    "    predit_abt['pred_isFraud'] = pred_y\n",
    "    pred_fraud_transaction_amount = predit_abt.loc[(predit_abt.isFraud == True) & (\n",
    "        predit_abt.pred_isFraud == True), 'transactionAmount'].sum()\n",
    "\n",
    "    print(\n",
    "        f'The Amount of Predicted Fraud Transactions is {pred_fraud_transaction_amount:,},')\n",
    "    tp_amount_pct = pred_fraud_transaction_amount / real_fraud_trasaction_amount\n",
    "    print(f'which is {tp_amount_pct:.2%} of total fraud transaction amount.')\n",
    "\n",
    "    fp_transaction_pct = predit_abt.loc[(predit_abt.isFraud == False) & (\n",
    "        predit_abt.pred_isFraud == True)].shape[0] / predit_abt.shape[0]\n",
    "    print(\n",
    "        f'Wrong predicted transaction pct in Not Fraud Transactions is {fp_transaction_pct:.2%}.')\n",
    "\n",
    "    res = {'x': not_fraud_ratio, 'tp_amount_pct': tp_amount_pct,\n",
    "           'fp_transaction_pct': fp_transaction_pct}\n",
    "    val_res.append(res)\n",
    "val_res_df = pd.DataFrame(val_res)"
   ]
  },
  {
   "cell_type": "code",
   "execution_count": 41,
   "id": "8693ab0a",
   "metadata": {
    "ExecuteTime": {
     "end_time": "2022-11-25T04:27:14.990788Z",
     "start_time": "2022-11-25T04:27:14.756414Z"
    }
   },
   "outputs": [
    {
     "data": {
      "image/png": "[encoded data removed]",
      "text/plain": [
       "<Figure size 720x720 with 1 Axes>"
      ]
     },
     "metadata": {
      "needs_background": "light"
     },
     "output_type": "display_data"
    }
   ],
   "source": [
    "# visulize the result\n",
    "data1 = list(zip(range(1, 10), val_res_df['tp_amount_pct'].tolist()))\n",
    "data2 = list(zip(range(1, 10), val_res_df['fp_transaction_pct'].tolist()))\n",
    "plt.figure(figsize=(10, 10))\n",
    "plt.plot(*zip(*data1), label='tp_amount_pct', marker='o')\n",
    "plt.plot(*zip(*data2), label='fp_transaction_pct', marker='o')\n",
    "plt.title('Evaluate Results for Business Analysis')\n",
    "plt.xlabel('Undersample Ratio')\n",
    "plt.ylabel('Amount/Transaction Pct')\n",
    "plt.legend()\n",
    "plt.show()"
   ]
  },
  {
   "cell_type": "code",
   "execution_count": 42,
   "id": "3cce9576",
   "metadata": {
    "ExecuteTime": {
     "end_time": "2022-11-25T04:27:15.193923Z",
     "start_time": "2022-11-25T04:27:14.990788Z"
    }
   },
   "outputs": [
    {
     "data": {
      "image/png": "[encoded data removed]",
      "text/plain": [
       "<Figure size 720x720 with 1 Axes>"
      ]
     },
     "metadata": {
      "needs_background": "light"
     },
     "output_type": "display_data"
    }
   ],
   "source": [
    "# visulize the result of F1 Score\n",
    "data = list(zip(f1s.keys(), f1s.values()))\n",
    "plt.figure(figsize=(10, 10))\n",
    "plt.plot(*zip(*data), label='tp_amount_pct', marker='o')\n",
    "plt.title('F1 Scores')\n",
    "plt.xlabel('Undersample Ratio')\n",
    "plt.ylabel('f1 score')\n",
    "plt.show()"
   ]
  },
  {
   "cell_type": "markdown",
   "id": "12cd1610",
   "metadata": {},
   "source": [
    "### Conclusion 1\n",
    "\n",
    "I will choose not_fraud_ratio=3 as the resampling strategy because it has higher f1 score.\n",
    "The TP transaction amounts pct is high at 40.35% of total fraud transaction amount, and FP transaction pct in real transactions is low at 4.85%."
   ]
  },
  {
   "cell_type": "code",
   "execution_count": null,
   "id": "ede02f93",
   "metadata": {},
   "outputs": [],
   "source": [
    "# save model for the REST API\n",
    "joblib.dump({\n",
    "    'model': lm_res[3],\n",
    "    'selected_features': abt.drop(columns=['isFraud']).columns,\n",
    "    'high_freq_fraud_merchant_names': high_freq_fraud_mechant_names\n",
    "}, 'pre_config_data.joblib')"
   ]
  },
  {
   "cell_type": "markdown",
   "id": "b15a0fed",
   "metadata": {},
   "source": [
    "### Comparing with NN\n",
    "I believe the NN should have better performance. I would choose not_fraud_ratio=3 to train the NN and compare the two methods."
   ]
  },
  {
   "cell_type": "markdown",
   "id": "fdf2c85a",
   "metadata": {},
   "source": [
    "Use Pytorch to train a NN "
   ]
  },
  {
   "cell_type": "code",
   "execution_count": 43,
   "id": "21969d24",
   "metadata": {
    "ExecuteTime": {
     "end_time": "2022-11-25T04:27:31.054724Z",
     "start_time": "2022-11-25T04:27:27.961015Z"
    }
   },
   "outputs": [
    {
     "data": {
      "text/plain": [
       "Model(\n",
       "  (layer1): Linear(in_features=87, out_features=512, bias=True)\n",
       "  (layer2): Linear(in_features=512, out_features=128, bias=True)\n",
       "  (layer_output): Linear(in_features=128, out_features=1, bias=True)\n",
       ")"
      ]
     },
     "execution_count": 43,
     "metadata": {},
     "output_type": "execute_result"
    }
   ],
   "source": [
    "from torch.autograd import Variable\n",
    "import torch.nn as nn\n",
    "import torch.nn.functional as F\n",
    "import torch\n",
    "\n",
    "not_fraud_ratio = 3\n",
    "rus = RandomUnderSampler(\n",
    "    sampling_strategy=1/not_fraud_ratio, random_state=4122)\n",
    "X_res, y_res = rus.fit_resample(\n",
    "    abt.drop(columns=['isFraud']), np.array(abt.isFraud.astype(int).tolist()))\n",
    "\n",
    "# Load the data\n",
    "X, y = X_res, y_res\n",
    "\n",
    "scaler = preprocessing.StandardScaler()\n",
    "X_scaled = scaler.fit_transform(X)\n",
    "\n",
    "X_train, X_test, y_train, y_test = model_selection.train_test_split(\n",
    "    X_scaled, y, test_size=0.20, random_state=4122)\n",
    "\n",
    "\n",
    "class Model(nn.Module):\n",
    "    def __init__(self, input_dim):\n",
    "        super(Model, self).__init__()\n",
    "        n_hidden1 = 512\n",
    "        n_hidden2 = 128\n",
    "        n_output = 1\n",
    "        self.layer1 = nn.Linear(input_dim, n_hidden1)\n",
    "        self.layer2 = nn.Linear(n_hidden1, n_hidden2)\n",
    "        self.layer_output = nn.Linear(n_hidden2, n_output)\n",
    "\n",
    "    def forward(self, x):\n",
    "        x = F.relu(self.layer1(x))\n",
    "        x = F.relu(self.layer2(x))\n",
    "        x = F.sigmoid(self.layer_output(x))\n",
    "        return x\n",
    "\n",
    "\n",
    "model = Model(X_train.shape[1])\n",
    "optimizer = torch.optim.Adam(model.parameters(), lr=0.001)\n",
    "loss_fn = nn.BCELoss()\n",
    "model"
   ]
  },
  {
   "cell_type": "code",
   "execution_count": 44,
   "id": "c9e08c07",
   "metadata": {
    "ExecuteTime": {
     "end_time": "2022-11-25T04:27:33.257859Z",
     "start_time": "2022-11-25T04:27:31.054724Z"
    }
   },
   "outputs": [],
   "source": [
    "# prepare the whole dataset to test the model later\n",
    "all_X = abt.drop(columns=['isFraud'])\n",
    "all_X_scaled = scaler.transform(all_X)\n",
    "\n",
    "# transform data type\n",
    "X_train = Variable(torch.from_numpy(X_train)).float()\n",
    "y_train = Variable(torch.from_numpy(y_train)).float()\n",
    "X_test = Variable(torch.from_numpy(X_test)).float()\n",
    "y_test = Variable(torch.from_numpy(y_test)).float()"
   ]
  },
  {
   "cell_type": "code",
   "execution_count": 45,
   "id": "9f742f4a",
   "metadata": {
    "ExecuteTime": {
     "end_time": "2022-11-25T04:31:54.867364Z",
     "start_time": "2022-11-25T04:27:33.257859Z"
    }
   },
   "outputs": [
    {
     "name": "stderr",
     "output_type": "stream",
     "text": [
      "100%|████████████████████████████████████████████████████████████████████████████████| 400/400 [04:21<00:00,  1.53it/s]\n"
     ]
    }
   ],
   "source": [
    "# train NN\n",
    "EPOCHS = 400\n",
    "\n",
    "train_losses = np.zeros((EPOCHS,))\n",
    "test_losses = np.zeros((EPOCHS,))\n",
    "models = []\n",
    "\n",
    "\n",
    "for epoch in tqdm.trange(EPOCHS):\n",
    "    y_pred = model(X_train)\n",
    "    loss = loss_fn(y_pred, y_train.reshape(-1, 1))\n",
    "\n",
    "    y_test_pred = model(X_test)\n",
    "    loss_test = loss_fn(y_test_pred, y_test.reshape(-1, 1))\n",
    "\n",
    "    # Zero gradients\n",
    "    optimizer.zero_grad()\n",
    "    loss.backward()\n",
    "    optimizer.step()\n",
    "\n",
    "    train_losses[epoch] = loss.item()\n",
    "    test_losses[epoch] = loss_test.item()\n",
    "    models.append(copy.copy(model))"
   ]
  },
  {
   "cell_type": "code",
   "execution_count": 46,
   "id": "c08c026d",
   "metadata": {
    "ExecuteTime": {
     "end_time": "2022-11-25T04:31:55.195513Z",
     "start_time": "2022-11-25T04:31:54.867364Z"
    }
   },
   "outputs": [
    {
     "data": {
      "image/png": "[encoded data removed]",
      "text/plain": [
       "<Figure size 720x720 with 1 Axes>"
      ]
     },
     "metadata": {
      "needs_background": "light"
     },
     "output_type": "display_data"
    }
   ],
   "source": [
    "plt.figure(figsize=(10, 10))\n",
    "plt.plot(train_losses, label='train loss')\n",
    "plt.plot(test_losses, label='test loss')\n",
    "plt.legend()\n",
    "plt.show()"
   ]
  },
  {
   "cell_type": "code",
   "execution_count": 47,
   "id": "a9d305f4",
   "metadata": {
    "ExecuteTime": {
     "end_time": "2022-11-25T04:31:55.211130Z",
     "start_time": "2022-11-25T04:31:55.195513Z"
    }
   },
   "outputs": [
    {
     "data": {
      "text/plain": [
       "108"
      ]
     },
     "execution_count": 47,
     "metadata": {},
     "output_type": "execute_result"
    }
   ],
   "source": [
    "# find the early termination point\n",
    "np.argmin(test_losses)"
   ]
  },
  {
   "cell_type": "code",
   "execution_count": 48,
   "id": "4459a56d",
   "metadata": {
    "ExecuteTime": {
     "end_time": "2022-11-25T04:31:58.414241Z",
     "start_time": "2022-11-25T04:31:55.211130Z"
    }
   },
   "outputs": [],
   "source": [
    "# use the best model to predict\n",
    "predictions = models[np.argmin(test_losses)](Variable(torch.from_numpy(all_X_scaled).float()))"
   ]
  },
  {
   "cell_type": "code",
   "execution_count": 64,
   "id": "a1ba71af",
   "metadata": {
    "ExecuteTime": {
     "end_time": "2022-11-25T04:33:09.431196Z",
     "start_time": "2022-11-25T04:33:09.087476Z"
    }
   },
   "outputs": [
    {
     "name": "stdout",
     "output_type": "stream",
     "text": [
      "3\n",
      "F1 Score for the whole dataset:  0.18499759268175253\n",
      "The Amount of Predicted Fraud Transactions is 1,036,689.4400000001,\n",
      "which is 48.62% of total fraud transaction amount.\n",
      "Wrong predicted transaction pct in Not Fraud Transactions is 4.85%.\n"
     ]
    }
   ],
   "source": [
    "# check the business metrics using the whole dataset\n",
    "cutoff = 0.7975\n",
    "pred_y = predictions.detach().numpy() >= cutoff\n",
    "\n",
    "print(not_fraud_ratio)\n",
    "print(\"F1 Score for the whole dataset: \",\n",
    "      metrics.f1_score(abt.isFraud.astype(int), pred_y))\n",
    "\n",
    "real_fraud_trasaction_amount = abt.loc[abt.isFraud ==\n",
    "                                       True, 'transactionAmount'].sum()\n",
    "predit_abt = abt.copy()\n",
    "predit_abt['pred_isFraud'] = pred_y\n",
    "pred_fraud_transaction_amount = predit_abt.loc[(predit_abt.isFraud == True) & (\n",
    "    predit_abt.pred_isFraud == True), 'transactionAmount'].sum()\n",
    "\n",
    "print(\n",
    "    f'The Amount of Predicted Fraud Transactions is {pred_fraud_transaction_amount:,},')\n",
    "tp_amount_pct = pred_fraud_transaction_amount / real_fraud_trasaction_amount\n",
    "print(f'which is {tp_amount_pct:.2%} of total fraud transaction amount.')\n",
    "\n",
    "fp_transaction_pct = predit_abt.loc[(predit_abt.isFraud == False) & (\n",
    "    predit_abt.pred_isFraud == True)].shape[0] / predit_abt.shape[0]\n",
    "print(\n",
    "    f'Wrong predicted transaction pct in Not Fraud Transactions is {fp_transaction_pct:.2%}.')\n",
    "\n",
    "res = {'x': not_fraud_ratio, 'tp_amount_pct': tp_amount_pct,\n",
    "       'fp_transaction_pct': fp_transaction_pct}\n",
    "val_res.append(res)"
   ]
  },
  {
   "cell_type": "markdown",
   "id": "99346c71",
   "metadata": {},
   "source": [
    "### Conclusion 2: Comparison between Logistic classification and NN\n",
    "With the same wrong predicted transaction pct in Not Fraud Transactions, the **pct of total fraud transaction amount** increases <span style=\"color:red\">from 40.35% to 48.62%</span> which could reduce loss about <span style=\"color:red\">$176,385.92</span>. F1 score increases from 0.110 to 0.185. NN wins!"
   ]
  },
  {
   "cell_type": "markdown",
   "id": "9530d461",
   "metadata": {},
   "source": [
    "### TODO:\n",
    "- optimize neutral networks"
   ]
  }
 ],
 "metadata": {
  "kernelspec": {
   "display_name": "Python 3 (ipykernel)",
   "language": "python",
   "name": "python3"
  },
  "language_info": {
   "codemirror_mode": {
    "name": "ipython",
    "version": 3
   },
   "file_extension": ".py",
   "mimetype": "text/x-python",
   "name": "python",
   "nbconvert_exporter": "python",
   "pygments_lexer": "ipython3",
   "version": "3.9.13"
  }
 },
 "nbformat": 4,
 "nbformat_minor": 5
}
